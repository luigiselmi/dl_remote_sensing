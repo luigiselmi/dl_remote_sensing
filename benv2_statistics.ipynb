{
 "cells": [
  {
   "cell_type": "markdown",
   "id": "9abaf2ed-442c-47c6-a2ac-7bd22ef0c61c",
   "metadata": {},
   "source": [
    "# BigEarthNet dataset statistics\n",
    "We want to know the number of times each Corine2018 class is used to classify pixels in the images, in other words the number of images that contain pixels of each class. In order to do that we extract the unique values for each mask linked to an image and we count the number of times each unique value is used. One other statistics that we might be interested in is the distribution of the number of classes used for each image: there might be images with only one class, images with two, or more."
   ]
  },
  {
   "cell_type": "markdown",
   "id": "5b1b6d0f-8a25-445d-9fd8-c5ab76007f6c",
   "metadata": {},
   "source": [
    "We import some functions and constants developed for the project"
   ]
  },
  {
   "cell_type": "code",
   "execution_count": 2,
   "id": "ad8eaf9d-970b-4d7d-b132-a67a678b7014",
   "metadata": {},
   "outputs": [],
   "source": [
    "#from scripts.bigearthnetv2_data_preparation import *"
   ]
  },
  {
   "cell_type": "markdown",
   "id": "1502671f-f80e-4874-a7da-a8b9f809b7b6",
   "metadata": {},
   "source": [
    "In development phase we have to execute the script to use the updated functions without restarting the notebook"
   ]
  },
  {
   "cell_type": "code",
   "execution_count": 3,
   "id": "41366f15-9e9c-4e7d-b6cf-85fb55712d44",
   "metadata": {},
   "outputs": [],
   "source": [
    "%run -i lib/bigearthnetv2_lib.py"
   ]
  },
  {
   "cell_type": "code",
   "execution_count": 4,
   "id": "eb7770fa-6608-4a54-b7a7-b1346f13a208",
   "metadata": {},
   "outputs": [
    {
     "name": "stdout",
     "output_type": "stream",
     "text": [
      "NumPy version: 1.26.4\n",
      "GDAL version: 3.10.2\n",
      "Matplotlib version: 3.8.4\n",
      "rasterio version: 1.4.3\n"
     ]
    }
   ],
   "source": [
    "print(\"NumPy version: %s\"%np.__version__)\n",
    "print(\"GDAL version: %s\"%gdal.__version__)\n",
    "print(\"Matplotlib version: %s\"%matplotlib.__version__)\n",
    "print(\"rasterio version: %s\"%rasterio.__version__)"
   ]
  },
  {
   "cell_type": "code",
   "execution_count": 5,
   "id": "0cd23fd9-ccf4-422a-9ba8-0116344485ed",
   "metadata": {},
   "outputs": [],
   "source": [
    "BIGEARTHNETv2_DIR = 'data'\n",
    "IMAGES_DATA_DIR = pathlib.Path(BIGEARTHNETv2_DIR + '/BigEarthNet-S2')\n",
    "MASKS_DATA_DIR = pathlib.Path(BIGEARTHNETv2_DIR + '/Reference_Maps')"
   ]
  },
  {
   "cell_type": "code",
   "execution_count": 11,
   "id": "5ee2a743-8596-4d00-934a-7ff8c77fd85e",
   "metadata": {},
   "outputs": [],
   "source": [
    "start_tile_index = 0\n",
    "end_tile_index = 2\n",
    "mask_list = list_mask_files(MASKS_DATA_DIR, start_tile_index, end_tile_index)"
   ]
  },
  {
   "cell_type": "code",
   "execution_count": 12,
   "id": "6d1e8ee0-1aec-45c9-be1b-379ae0461924",
   "metadata": {},
   "outputs": [
    {
     "data": {
      "text/plain": [
       "'data\\\\Reference_Maps\\\\S2A_MSIL2A_20170613T101031_N9999_R022_T33UUP\\\\S2A_MSIL2A_20170613T101031_N9999_R022_T33UUP_26_57\\\\S2A_MSIL2A_20170613T101031_N9999_R022_T33UUP_26_57_reference_map.tif'"
      ]
     },
     "execution_count": 12,
     "metadata": {},
     "output_type": "execute_result"
    }
   ],
   "source": [
    "tile_index = 0\n",
    "patch_index = 0\n",
    "band_index = 0\n",
    "mask_path = str(mask_list[tile_index][patch_index][band_index])\n",
    "mask_path"
   ]
  },
  {
   "cell_type": "code",
   "execution_count": 14,
   "id": "1929960f-432c-40d8-8322-bf2b25f90ed5",
   "metadata": {},
   "outputs": [
    {
     "name": "stdout",
     "output_type": "stream",
     "text": [
      "Level 3 CLC classes:  [211 231 311 313]\n"
     ]
    }
   ],
   "source": [
    "mask_ds = in_ds = gdal.Open(mask_path)\n",
    "mask_data = mask_ds.GetRasterBand(1)\n",
    "mask_array = mask_data.ReadAsArray()\n",
    "unique_values = np.unique(mask_array)\n",
    "print('Level 3 CLC classes: ', unique_values)"
   ]
  },
  {
   "cell_type": "code",
   "execution_count": 15,
   "id": "fc84b855-9354-4e60-93ce-2c27b9fb83bf",
   "metadata": {},
   "outputs": [
    {
     "data": {
      "text/plain": [
       "dtype('uint16')"
      ]
     },
     "execution_count": 15,
     "metadata": {},
     "output_type": "execute_result"
    }
   ],
   "source": [
    "mask_array.dtype"
   ]
  },
  {
   "cell_type": "code",
   "execution_count": 16,
   "id": "f632a921-5481-403f-83fe-8800e4edb086",
   "metadata": {},
   "outputs": [],
   "source": [
    "def print_unique_occurrence(u, o):\n",
    "    print('Unique value: {:d} - Occurrences: {:d}\\n'.format(u, o))"
   ]
  },
  {
   "cell_type": "code",
   "execution_count": 17,
   "id": "88f99c01-4bf4-45a6-a550-e79903678f43",
   "metadata": {},
   "outputs": [
    {
     "name": "stdout",
     "output_type": "stream",
     "text": [
      "Unique value: 211 - Occurrences: 7075\n",
      "\n",
      "Unique value: 231 - Occurrences: 1154\n",
      "\n",
      "Unique value: 311 - Occurrences: 4131\n",
      "\n",
      "Unique value: 313 - Occurrences: 2040\n",
      "\n"
     ]
    },
    {
     "data": {
      "text/plain": [
       "[None, None, None, None]"
      ]
     },
     "execution_count": 17,
     "metadata": {},
     "output_type": "execute_result"
    }
   ],
   "source": [
    "unique_values, occurrence_count = np.unique(mask_array, return_counts=True)\n",
    "[print_unique_occurrence(u, o) for u, o in zip(unique_values, occurrence_count)]"
   ]
  },
  {
   "cell_type": "code",
   "execution_count": 18,
   "id": "16a00b21-fce7-4054-a3d6-1d789262e19f",
   "metadata": {},
   "outputs": [
    {
     "data": {
      "text/plain": [
       "999"
      ]
     },
     "execution_count": 18,
     "metadata": {},
     "output_type": "execute_result"
    }
   ],
   "source": [
    "corine2018_class_code(45)"
   ]
  },
  {
   "cell_type": "code",
   "execution_count": 19,
   "id": "df5370e0-e4ac-4de6-8428-e4d17f72ab6d",
   "metadata": {},
   "outputs": [
    {
     "data": {
      "text/plain": [
       "45"
      ]
     },
     "execution_count": 19,
     "metadata": {},
     "output_type": "execute_result"
    }
   ],
   "source": [
    "corine2018_class_bucket(corine2018_class_code(45))"
   ]
  },
  {
   "cell_type": "markdown",
   "id": "720ec6c8-fda8-4e0e-afd3-7cc9000eb912",
   "metadata": {},
   "source": [
    "We iterate through all the mask files to extract the unique values in each of them. Every time a mask contains pixels of one of the Corine2018 classes we add 1 to the corresponding bucket."
   ]
  },
  {
   "cell_type": "code",
   "execution_count": 23,
   "id": "b3e443eb-0e1f-4ccc-9237-0bb485da1a35",
   "metadata": {},
   "outputs": [
    {
     "name": "stdout",
     "output_type": "stream",
     "text": [
      "Number of tiles:  2\n",
      "Tile: S2A_MSIL2A_20170613T101031_N9999_R022_T33UUP\n",
      "Number of patches per tile:  2\n",
      "Patch:  S2A_MSIL2A_20170613T101031_N9999_R022_T33UUP_26_57\n",
      "Unique values:  [211 231 311 313]\n",
      "Patch:  S2A_MSIL2A_20170613T101031_N9999_R022_T33UUP_27_55\n",
      "Unique values:  [211 311 313 511]\n",
      "Tile: S2A_MSIL2A_20170613T101031_N9999_R022_T34VER\n",
      "Number of patches per tile:  2\n",
      "Patch:  S2A_MSIL2A_20170613T101031_N9999_R022_T34VER_00_45\n",
      "Unique values:  [523]\n",
      "Patch:  S2A_MSIL2A_20170613T101031_N9999_R022_T34VER_00_46\n",
      "Unique values:  [523]\n",
      "Elapsed time (seconds): 0.04\n"
     ]
    }
   ],
   "source": [
    "start = time.time()\n",
    "corine2018_buckets = collect_statistics(MASKS_DATA_DIR, start_tile_index, end_tile_index, print_msg=True)\n",
    "end = time.time()\n",
    "elapsed_time = end - start\n",
    "print('Elapsed time (seconds): {:.2f}'.format(elapsed_time))"
   ]
  },
  {
   "cell_type": "markdown",
   "id": "e1d1085e-b3b5-4cb1-b022-1583077fe031",
   "metadata": {},
   "source": [
    "## Saving the images distribution among the Corine2018 classes\n",
    "We save the bucket array into a file"
   ]
  },
  {
   "cell_type": "code",
   "execution_count": 21,
   "id": "83731f56-9835-43ed-ad4c-602c572da330",
   "metadata": {},
   "outputs": [
    {
     "data": {
      "text/plain": [
       "array([0., 0., 0., 0., 0., 0., 0., 0., 0., 0., 0., 2., 0., 0., 0., 0., 0.,\n",
       "       1., 0., 0., 0., 0., 2., 0., 2., 0., 0., 0., 0., 0., 0., 0., 0., 0.,\n",
       "       0., 0., 0., 0., 0., 1., 0., 0., 0., 2., 0.])"
      ]
     },
     "execution_count": 21,
     "metadata": {},
     "output_type": "execute_result"
    }
   ],
   "source": [
    "corine2018_buckets"
   ]
  },
  {
   "cell_type": "code",
   "execution_count": 22,
   "id": "bce238ba-bc26-4419-83c9-b06b6d41e812",
   "metadata": {},
   "outputs": [],
   "source": [
    "#save_statistics(buckets, 'data/statistics.txt')"
   ]
  },
  {
   "cell_type": "markdown",
   "id": "ebf71733-64c3-4147-afaf-4df8f0b04350",
   "metadata": {},
   "source": [
    "## Plotting the dataset statistics\n",
    "We plot a bar chart with the number of images per class of the Corine2018 classification code. The colors used are from the [Corine2018 RGB color codes](https://www.eea.europa.eu/data-and-maps/data/corine-land-cover-2/corine-land-cover-classes-and/clc_legend.csv)."
   ]
  },
  {
   "cell_type": "code",
   "execution_count": 42,
   "id": "3f6e5d3d-36b4-4294-9650-2c27eb3a8f8d",
   "metadata": {},
   "outputs": [],
   "source": [
    "stats = read_statistics('data/statistics.txt')"
   ]
  },
  {
   "cell_type": "code",
   "execution_count": 52,
   "id": "07e3eab6-ed39-4ae8-9aa3-348df63963b8",
   "metadata": {},
   "outputs": [],
   "source": [
    "corine2018_buckets = np.arange(1, 46)\n",
    "corine2018_colors = corine_color_map()"
   ]
  },
  {
   "cell_type": "code",
   "execution_count": 53,
   "id": "592c9d63-0425-4b5d-bc9f-62cb7fe78f05",
   "metadata": {},
   "outputs": [
    {
     "data": {
      "text/plain": [
       "<BarContainer object of 45 artists>"
      ]
     },
     "execution_count": 53,
     "metadata": {},
     "output_type": "execute_result"
    },
    {
     "data": {
      "image/png": "[encoded data removed]",
      "text/plain": [
       "<Figure size 2000x1000 with 1 Axes>"
      ]
     },
     "metadata": {},
     "output_type": "display_data"
    }
   ],
   "source": [
    "fig = plt.figure(figsize=(20, 10))\n",
    "ax = fig.add_subplot()\n",
    "ax.set_title(\"BigEarthNet Statistics\")\n",
    "ax.set_xlabel(\"Corine2018 Classes\")\n",
    "ax.set_ylabel(\"Images distibution per class\");\n",
    "plt.bar(corine2018_buckets, stats, color=corine2018_colors)"
   ]
  },
  {
   "cell_type": "code",
   "execution_count": null,
   "id": "036be00f-ce5a-4001-b19d-61a36311cda2",
   "metadata": {},
   "outputs": [],
   "source": []
  }
 ],
 "metadata": {
  "kernelspec": {
   "display_name": "Python 3 (ipykernel)",
   "language": "python",
   "name": "python3"
  },
  "language_info": {
   "codemirror_mode": {
    "name": "ipython",
    "version": 3
   },
   "file_extension": ".py",
   "mimetype": "text/x-python",
   "name": "python",
   "nbconvert_exporter": "python",
   "pygments_lexer": "ipython3",
   "version": "3.12.5"
  }
 },
 "nbformat": 4,
 "nbformat_minor": 5
}
