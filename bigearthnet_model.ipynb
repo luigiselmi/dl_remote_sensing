{
 "cells": [
  {
   "cell_type": "markdown",
   "id": "c4769f01-b259-4c5c-8adb-9d7841c8d2f8",
   "metadata": {},
   "source": [
    "# BigEarthNet model\n",
    "In this notebook we implement a deep learning model for the classification of pixels in satellite images. We use the same model implemented for the EPFL Building footprints. The dataset for training the model is [BigEarthNet](https://bigearth.net/#downloads). The original TIFF images for the Sentinel-2 bands and the relative masks have been transformed into PNG files."
   ]
  },
  {
   "cell_type": "code",
   "execution_count": 2,
   "id": "553b209a-5441-47cf-b0e6-8316c3fe1770",
   "metadata": {},
   "outputs": [
    {
     "name": "stdout",
     "output_type": "stream",
     "text": [
      "NumPy version: 1.26.4\n"
     ]
    }
   ],
   "source": [
    "import os\n",
    "from pathlib import Path\n",
    "from zipfile import ZipFile\n",
    "import matplotlib.pyplot as plt\n",
    "from skimage import io\n",
    "from skimage import exposure\n",
    "from skimage.io import imsave, imread\n",
    "import numpy as np\n",
    "from sklearn.metrics import jaccard_score\n",
    "#import tensorflow as tf\n",
    "#import keras\n",
    "#from keras import layers\n",
    "#from tensorflow.keras.utils import array_to_img, load_img, img_to_array\n",
    "import warnings\n",
    "warnings.filterwarnings('ignore')\n",
    "print(\"NumPy version: %s\"%np.__version__)\n",
    "#print('Tensorflow version: {:s}'.format(tf.__version__))\n",
    "#print('Keras version. {}'.format(keras.__version__))"
   ]
  },
  {
   "cell_type": "code",
   "execution_count": 3,
   "id": "5c29266b-80b5-4bec-9b62-1d24c19c4d90",
   "metadata": {},
   "outputs": [
    {
     "name": "stdout",
     "output_type": "stream",
     "text": [
      "Your runtime has 8.5 gigabytes of available RAM\n",
      "\n"
     ]
    }
   ],
   "source": [
    "from psutil import virtual_memory\n",
    "ram_gb = virtual_memory().total / 1e9\n",
    "print('Your runtime has {:.1f} gigabytes of available RAM\\n'.format(ram_gb))"
   ]
  },
  {
   "cell_type": "markdown",
   "id": "fb99bf3a-cd8d-4569-81c3-f89ea77addac",
   "metadata": {},
   "source": [
    "## The dataset\n",
    "The RGB PNG files and the corresponding masks are available as zip files. They can be downloaded from an S3 bucket on AWS"
   ]
  },
  {
   "cell_type": "code",
   "execution_count": 1,
   "id": "aa345428-99c6-47ff-9358-47f4484e778e",
   "metadata": {},
   "outputs": [],
   "source": [
    "DATADIR = '.'\n",
    "presigned_url = 'https://selmilab-bucket.s3.eu-south-1.amazonaws.com/'"
   ]
  },
  {
   "cell_type": "code",
   "execution_count": null,
   "id": "ed086345-8ac2-4f21-bcb1-a7d2322c91f5",
   "metadata": {},
   "outputs": [],
   "source": [
    "!wget -nv presigned_url -P DATADIR presigned_url"
   ]
  },
  {
   "cell_type": "code",
   "execution_count": null,
   "id": "699d5b1e-dba6-4de9-b61b-358b28371eb7",
   "metadata": {},
   "outputs": [],
   "source": [
    "with ZipFile(f'{DATADIR}/epfl_buildings_train.zip', 'r') as zipObj:\n",
    "   zipObj.extractall(path=f'{DATADIR}/')"
   ]
  },
  {
   "cell_type": "code",
   "execution_count": null,
   "id": "46b63e14-c68a-499b-99f3-e36880a0c096",
   "metadata": {},
   "outputs": [],
   "source": [
    "with ZipFile(f'{DATADIR}/epfl_buildings_test.zip', 'r') as zipObj:\n",
    "   zipObj.extractall(path=f'{DATADIR}/')"
   ]
  }
 ],
 "metadata": {
  "kernelspec": {
   "display_name": "Python 3 (ipykernel)",
   "language": "python",
   "name": "python3"
  },
  "language_info": {
   "codemirror_mode": {
    "name": "ipython",
    "version": 3
   },
   "file_extension": ".py",
   "mimetype": "text/x-python",
   "name": "python",
   "nbconvert_exporter": "python",
   "pygments_lexer": "ipython3",
   "version": "3.12.5"
  }
 },
 "nbformat": 4,
 "nbformat_minor": 5
}
