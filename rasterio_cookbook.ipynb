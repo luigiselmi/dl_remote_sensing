{
 "cells": [
  {
   "cell_type": "markdown",
   "id": "d0630b08-69ee-489a-8e08-a9ee4a239313",
   "metadata": {},
   "source": [
    "# Rasterio Cookbook\n",
    "In this notebook we use some utilities from the [rasterio](https://rasterio.readthedocs.io/en/stable/) Python package for raster data that is somewhat easier to use than [GDAL](https://gdal.org/en/stable/)."
   ]
  },
  {
   "cell_type": "code",
   "execution_count": 1,
   "id": "c1e21ef9-ec9e-469d-8627-8873fb14b1ea",
   "metadata": {},
   "outputs": [
    {
     "name": "stdout",
     "output_type": "stream",
     "text": [
      "NumPy version: 1.26.4\n",
      "Matplotlib version: 3.8.4\n",
      "rasterio version: 1.4.3\n"
     ]
    }
   ],
   "source": [
    "import numpy as np\n",
    "import os\n",
    "import pathlib\n",
    "import PIL\n",
    "import PIL.Image\n",
    "import matplotlib\n",
    "import matplotlib.pyplot as plt\n",
    "import rasterio\n",
    "import warnings\n",
    "warnings.filterwarnings('ignore')\n",
    "print(\"NumPy version: %s\"%np.__version__)\n",
    "print(\"Matplotlib version: %s\"%matplotlib.__version__)\n",
    "print(\"rasterio version: %s\"%rasterio.__version__)"
   ]
  },
  {
   "cell_type": "markdown",
   "id": "1a959494-3280-424f-9f81-5db96f2e6a4d",
   "metadata": {},
   "source": [
    "We import some functions and constants developed for the project"
   ]
  },
  {
   "cell_type": "code",
   "execution_count": 7,
   "id": "303ee995-fc14-4b94-977a-b0510368e51d",
   "metadata": {},
   "outputs": [],
   "source": [
    "from scripts.bigearthnetv2_data_preparation import *"
   ]
  },
  {
   "cell_type": "markdown",
   "id": "23cb1be1-2d42-4655-b8a3-aa6bbebc2347",
   "metadata": {},
   "source": [
    "In development phase we have to execute the script to use the updated functions without restarting the notebook"
   ]
  },
  {
   "cell_type": "code",
   "execution_count": 10,
   "id": "825461da-1eef-4795-bc15-85bfa75555cc",
   "metadata": {},
   "outputs": [
    {
     "name": "stdout",
     "output_type": "stream",
     "text": [
      "Path to BigEarthNetv2 dataset: data/BigEarthNet-S2\n"
     ]
    }
   ],
   "source": [
    "%run -i scripts/bigearthnetv2_data_preparation.py"
   ]
  },
  {
   "cell_type": "code",
   "execution_count": 12,
   "id": "1c78898d-5ecb-4065-9b22-54e14809d5fa",
   "metadata": {},
   "outputs": [],
   "source": [
    "images_list = list_data_files(IMAGES_DATA_DIR)"
   ]
  },
  {
   "cell_type": "code",
   "execution_count": 13,
   "id": "ef913227-5942-4e59-be37-c3ecb02ed7ff",
   "metadata": {},
   "outputs": [],
   "source": [
    "img_path = images_list[0][0][0]"
   ]
  },
  {
   "cell_type": "markdown",
   "id": "84caa865-28f9-494e-8f2e-cb9bcb953eba",
   "metadata": {},
   "source": [
    "## Raster dataset attributes"
   ]
  },
  {
   "cell_type": "code",
   "execution_count": 2,
   "id": "893d9bc0-a0fb-4ab4-a6f9-9f735e62163d",
   "metadata": {},
   "outputs": [],
   "source": [
    "def get_raster_attributes(img_path):\n",
    "    width = 0.0\n",
    "    height = 0.0\n",
    "    d_type = None\n",
    "    crs = None\n",
    "    transform = None\n",
    "    with rasterio.open(img_path) as dataset:\n",
    "        d_types = dataset.dtypes[0]\n",
    "        print('dtypes: {}'.format(d_types))\n",
    "        print('Number of bands: {:d}'.format(dataset.count))\n",
    "        width = dataset.width\n",
    "        height = dataset.height\n",
    "        print('Band width: {:d}, band height: {:d}'.format(width, height))\n",
    "        transform = dataset.transform\n",
    "        print('Dataset affine transform:\\n {}'.format(transform))\n",
    "        crs = dataset.crs\n",
    "        print('EPSG Coordinates Reference System: {}'.format(crs))\n",
    "        bb_left = dataset.bounds.left\n",
    "        bb_bottom = dataset.bounds.bottom\n",
    "        bb_right = dataset.bounds.right\n",
    "        bb_top = dataset.bounds.top\n",
    "        print('Bounding box \\n left: {:.2f}, \\n bottom: {:.2f}, \\n right: {:.2f}, \\n top: {:.2f}'.format(bb_left, bb_bottom, bb_right, bb_top))                                                   \n",
    "    return width, height, d_type, transform"
   ]
  },
  {
   "cell_type": "code",
   "execution_count": 14,
   "id": "c933a439-9d41-416d-b0be-5006de6fe9eb",
   "metadata": {},
   "outputs": [
    {
     "name": "stdout",
     "output_type": "stream",
     "text": [
      "dtypes: uint16\n",
      "Number of bands: 1\n",
      "Band width: 120, band height: 120\n",
      "Dataset affine transform:\n",
      " | 10.00, 0.00, 331200.00|\n",
      "| 0.00,-10.00, 5331600.00|\n",
      "| 0.00, 0.00, 1.00|\n",
      "EPSG Coordinates Reference System: EPSG:32633\n",
      "Bounding box \n",
      " left: 331200.00, \n",
      " bottom: 5330400.00, \n",
      " right: 332400.00, \n",
      " top: 5331600.00\n"
     ]
    },
    {
     "data": {
      "text/plain": [
       "(120,\n",
       " 120,\n",
       " None,\n",
       " Affine(10.0, 0.0, 331200.0,\n",
       "        0.0, -10.0, 5331600.0))"
      ]
     },
     "execution_count": 14,
     "metadata": {},
     "output_type": "execute_result"
    }
   ],
   "source": [
    "get_raster_attributes(img_path)"
   ]
  },
  {
   "cell_type": "markdown",
   "id": "39aed86f-81f4-4de7-a292-93c66ba6487f",
   "metadata": {},
   "source": [
    "## Reading raster data"
   ]
  },
  {
   "cell_type": "code",
   "execution_count": 15,
   "id": "40274ee4-38f8-41fb-80ba-a3baa8a4f4ca",
   "metadata": {},
   "outputs": [],
   "source": [
    "def read_raster_data(img_path):\n",
    "    with rasterio.open(img_path) as dataset:\n",
    "        num_bands = dataset.count\n",
    "        for b in range(1, num_bands + 1):\n",
    "            band = dataset.read(b)\n",
    "            rows, cols = band.shape\n",
    "            m = np.mean(band)\n",
    "            std = np.std(band)\n",
    "            print('Band {:d} rows: {:d}, cols: {:d}, mean: {:.2f}, std: {:.2f}'.format(b, rows, cols, m, std))"
   ]
  },
  {
   "cell_type": "code",
   "execution_count": 16,
   "id": "c98679e4-dc13-4228-872c-7db0e526b629",
   "metadata": {},
   "outputs": [
    {
     "name": "stdout",
     "output_type": "stream",
     "text": [
      "Band 1 rows: 120, cols: 120, mean: 341.58, std: 196.76\n"
     ]
    }
   ],
   "source": [
    "read_raster_data(img_path)"
   ]
  },
  {
   "cell_type": "markdown",
   "id": "b273f2e4-cbe3-4ff5-8138-e360fef546a5",
   "metadata": {},
   "source": [
    "## Coordinates transform"
   ]
  },
  {
   "cell_type": "code",
   "execution_count": 18,
   "id": "67bcf1e3-a6eb-41a3-853a-9b501db95045",
   "metadata": {},
   "outputs": [],
   "source": [
    "import rasterio.features\n",
    "import rasterio.warp\n",
    "\n",
    "def print_coords_transform(img_path):\n",
    "    with rasterio.open(img_path) as dataset:\n",
    "\n",
    "        # Read the dataset's valid data mask as a ndarray.\n",
    "        mask = dataset.dataset_mask()\n",
    "\n",
    "        # Extract feature shapes and values from the array.\n",
    "        for geom, val in rasterio.features.shapes(mask, transform=dataset.transform):\n",
    "\n",
    "            # Transform shapes from the dataset's own coordinate\n",
    "            # reference system to CRS84 (EPSG:4326).\n",
    "            geom = rasterio.warp.transform_geom(\n",
    "                dataset.crs, 'EPSG:4326', geom, precision=6)\n",
    "\n",
    "            # Print GeoJSON shapes to stdout.\n",
    "            print(geom)"
   ]
  },
  {
   "cell_type": "code",
   "execution_count": 19,
   "id": "efd1de37-f953-4d80-b7d8-6248b694a2f4",
   "metadata": {},
   "outputs": [
    {
     "name": "stdout",
     "output_type": "stream",
     "text": [
      "{'type': 'Polygon', 'coordinates': [[[12.732009, 48.11527], [12.732483, 48.104482], [12.74859, 48.104799], [12.748119, 48.115587], [12.732009, 48.11527]]]}\n"
     ]
    }
   ],
   "source": [
    "print_coords_transform(img_path)"
   ]
  },
  {
   "cell_type": "code",
   "execution_count": null,
   "id": "5326e87a-2053-4101-b22c-3ee45b172605",
   "metadata": {},
   "outputs": [],
   "source": []
  }
 ],
 "metadata": {
  "kernelspec": {
   "display_name": "Python 3 (ipykernel)",
   "language": "python",
   "name": "python3"
  },
  "language_info": {
   "codemirror_mode": {
    "name": "ipython",
    "version": 3
   },
   "file_extension": ".py",
   "mimetype": "text/x-python",
   "name": "python",
   "nbconvert_exporter": "python",
   "pygments_lexer": "ipython3",
   "version": "3.12.5"
  }
 },
 "nbformat": 4,
 "nbformat_minor": 5
}
