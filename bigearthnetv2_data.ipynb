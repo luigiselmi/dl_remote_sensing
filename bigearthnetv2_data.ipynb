{
 "cells": [
  {
   "cell_type": "markdown",
   "id": "91040fe0-2442-4f7d-83e7-458453e017aa",
   "metadata": {},
   "source": [
    "# BigEarthNetv2 data preparation\n",
    "The BigEarthNetv2 dataset contains 549488 Sentinel-2 image patches with the corresponding mask that can be used to train a model for satellite image classification and segmentation. For each scene dhe dataset contains 12 of the 13 bands available, that is, all but B10. More information about the dataset is available at the [BigEarthNet](https://bigearth.net/) website.\n",
    "\n",
    "* B01 (resolution = 60m/px, central wavelength = 443nm, bandwidth = 20nm, use: aerosol detection)\n",
    "* B02 (blue, resolution = 10m/px, central wavelength = 490nm, bandwidth = 65nm, use: Band 2 is useful for soil and vegetation discrimination, forest type mapping and identifying man-made features. It is scattered by the atmosphere, it illuminates material in shadows better than longer wavelengths, and it penetrates clear water better than other colors. It is absorbed by chlorophyll, which results in darker plants.)\n",
    "* B03 (green, resolution = 10m/px, central wavelength = 560nm, bandwidth = 35nm, use: it gives excellent contrast between clear and turbid (muddy) water, and penetrates clear water fairly well. It helps in highlighting oil on water surfaces, and vegetation. It reflects green light stronger than any other visible color. Man-made features are still visible)\n",
    "* B04 (red, resolution = 10m/px, central wavelength = 665nm, bandwidth = 30nm, use: it is strongly reflected by dead foliage and is useful for identifying vegetation types, soils and urban (city and town) areas. It has limited water penetration and doesn’t reflect well from live foliage with chlorophyll.)\n",
    "* B05 (red edge, resolution = 20m/px, central wavelength = 705nm, bandwidth = 15nm, use: vegetation classification)\n",
    "* B06 (resolution = 20m/px, central wavelength = 740nm, bandwidth = 15nm, use: vegetation classification)\n",
    "* B07 (resolution = 20m/px, central wavelength = 783nm, bandwidth = 20nm, use: vegetation classification)\n",
    "* B08 (NIR, resolution = 10m/px, central wavelength = 842nm, bandwidth = 115nm, use: The near infrared band is good for mapping shorelines and biomass content, as well as at detecting and analyzing vegetation)\n",
    "* B8A (resolution = 20m/px, central wavelength = 865nm, bandwidth = 20nm, use: For classifying vegetation)\n",
    "* B09 (resolution = 60m/px, central wavelength = 945nm, bandwidth = 20nm, use: it is good for detecting water vapour)\n",
    "* B10 (resolution = 60m/px, central wavelength = 1375nm, bandwidth = 30nm, use: For cirrus cloud detection)\n",
    "* B11 (SWIR 1, resolution = 20m/px, central wavelength = 1610nm, bandwidth = 90nm, use: It is useful for measuring the moisture content of soil and vegetation, and it provides good contrast between different types of vegetation. It helps differentiate between snow and clouds. On the other hand, it has limited cloud penetration)\n",
    "* B12 (SWIR 2, resolution = 20m/px, central wavelength = 2190nm, bandwidth = 180nm, use: It is useful for measuring the moisture content of soil and vegetation, and it provides good contrast between different types of vegetation. It helps differentiate between snow and clouds. On the other hand, it has limited cloud penetration)\n",
    "\n",
    "We will use only the three RGB bands: B02 (blue), B03 (green), and B04 (red). The masks have been created using 19 classes of the CORINE Land Cover (CLC) nomenclature. The data preparation phase consists of \n",
    "\n",
    "1. Convert the TIFF bands of a scene into PNG files\n",
    "2. Stack together in one PNG file the three bands for each scene\n",
    "3. Create three datasets for training, validation and test\n"
   ]
  },
  {
   "cell_type": "markdown",
   "id": "c659d089-e931-40f4-b442-a77a9cf9d045",
   "metadata": {},
   "source": [
    "## Structure of the dataset\n",
    "The BigEarthNetv2 dataset is organized into two root folders, one for the images and one for the masks, like in the following example with only two image patches of one scene. \n",
    "* BigEarthNet-S2\n",
    "    * images\n",
    "        * S2A_MSIL2A_20170613T101031_N9999_R022_T33UUP\n",
    "            * S2A_MSIL2A_20170613T101031_N9999_R022_T33UUP_26_57\n",
    "                * S2A_MSIL2A_20170613T101031_N9999_R022_T33UUP_26_57_B02.tif\n",
    "                * S2A_MSIL2A_20170613T101031_N9999_R022_T33UUP_26_57_B03.tif\n",
    "                * S2A_MSIL2A_20170613T101031_N9999_R022_T33UUP_26_57_B04.tif\n",
    "            * S2A_MSIL2A_20170613T101031_N9999_R022_T33UUP_27_55\n",
    "                * S2A_MSIL2A_20170613T101031_N9999_R022_T33UUP_27_55_B02.tif\n",
    "                * S2A_MSIL2A_20170613T101031_N9999_R022_T33UUP_27_55_B03.tif\n",
    "                * S2A_MSIL2A_20170613T101031_N9999_R022_T33UUP_27_55_B04.tif\n",
    "    * masks\n",
    "        * S2A_MSIL2A_20170613T101031_N9999_R022_T33UUP\n",
    "            * S2A_MSIL2A_20170613T101031_N9999_R022_T33UUP_26_57\n",
    "                * S2A_MSIL2A_20170613T101031_N9999_R022_T33UUP_26_57_reference_map.tif\n",
    "            * S2A_MSIL2A_20170613T101031_N9999_R022_T33UUP_26_57\n",
    "                * S2A_MSIL2A_20170613T101031_N9999_R022_T33UUP_27_55_reference_map.tif\n",
    "\n",
    "The images leaf folders contain 12 TIFF images, one for each Sentinel-2 bands. The masks leaf folder contain only one TIFF file. The file name is built using the convention  \n",
    "satellite_sensor_date_scene-part1_scene-part2_scene-part3_code-number1_code-number2"
   ]
  },
  {
   "cell_type": "code",
   "execution_count": 6,
   "id": "dc8bb867-e6b9-4852-b026-d9e6bb38b3eb",
   "metadata": {},
   "outputs": [
    {
     "name": "stdout",
     "output_type": "stream",
     "text": [
      "NumPy version: 1.26.4\n",
      "Matplotlib version: 3.8.4\n",
      "rasterio version: 1.4.3\n"
     ]
    }
   ],
   "source": [
    "import numpy as np\n",
    "import os\n",
    "import pathlib\n",
    "import PIL\n",
    "import PIL.Image\n",
    "import matplotlib\n",
    "import matplotlib.pyplot as plt\n",
    "import rasterio\n",
    "import warnings\n",
    "warnings.filterwarnings('ignore')\n",
    "print(\"NumPy version: %s\"%np.__version__)\n",
    "print(\"Matplotlib version: %s\"%matplotlib.__version__)\n",
    "print(\"rasterio version: %s\"%rasterio.__version__)"
   ]
  },
  {
   "cell_type": "code",
   "execution_count": 7,
   "id": "643a6c3b-8435-4fc4-b9ba-82167670776e",
   "metadata": {},
   "outputs": [],
   "source": [
    "IMAGES_DATA_DIR = pathlib.Path('data/BigEarthNet-S2/images')\n",
    "MASKS_DATA_DIR = pathlib.Path('data/BigEarthNet-S2/masks')"
   ]
  },
  {
   "cell_type": "code",
   "execution_count": 38,
   "id": "a9214ec0-6410-4a4a-a624-aaa427935986",
   "metadata": {},
   "outputs": [],
   "source": [
    "def list_data_files(root_path):\n",
    "    patch_paths = []\n",
    "    scene_paths = [pathlib.Path(x) for x in root_path.iterdir() if x.is_dir()]\n",
    "    for scene_path in scene_paths:\n",
    "        for patch_path in scene_path.iterdir():\n",
    "            for file in patch_path.iterdir():\n",
    "                band_type = file.name[-7:]\n",
    "                #print(band_type)\n",
    "                if (band_type == 'B02.tif' or band_type == 'B03.tif' or band_type == 'B04.tif' or band_type == 'map.tif'):\n",
    "                    patch_paths.append(file)\n",
    "    return patch_paths"
   ]
  },
  {
   "cell_type": "code",
   "execution_count": 39,
   "id": "7aa9fb47-f55d-4f57-b70a-9d03a642aaa0",
   "metadata": {},
   "outputs": [
    {
     "data": {
      "text/plain": [
       "6"
      ]
     },
     "execution_count": 39,
     "metadata": {},
     "output_type": "execute_result"
    }
   ],
   "source": [
    "image_patches = list_data_files(IMAGES_DATA_DIR)\n",
    "len(image_patches)"
   ]
  },
  {
   "cell_type": "code",
   "execution_count": 40,
   "id": "384f1d7e-16f1-4159-aab5-6e13ce307222",
   "metadata": {},
   "outputs": [
    {
     "name": "stdout",
     "output_type": "stream",
     "text": [
      "S2A_MSIL2A_20170613T101031_N9999_R022_T33UUP_26_57_B02.tif\n",
      "S2A_MSIL2A_20170613T101031_N9999_R022_T33UUP_26_57_B03.tif\n",
      "S2A_MSIL2A_20170613T101031_N9999_R022_T33UUP_26_57_B04.tif\n",
      "S2A_MSIL2A_20170613T101031_N9999_R022_T33UUP_27_55_B02.tif\n",
      "S2A_MSIL2A_20170613T101031_N9999_R022_T33UUP_27_55_B03.tif\n",
      "S2A_MSIL2A_20170613T101031_N9999_R022_T33UUP_27_55_B04.tif\n"
     ]
    }
   ],
   "source": [
    "for image in image_patches:\n",
    "    print(image.name)"
   ]
  },
  {
   "cell_type": "code",
   "execution_count": 50,
   "id": "2a557733-9eaf-4fe6-aef6-787c71a0be3c",
   "metadata": {},
   "outputs": [
    {
     "data": {
      "image/png": "[encoded data removed]",
      "text/plain": [
       "<PIL.TiffImagePlugin.TiffImageFile image mode=I;16 size=120x120>"
      ]
     },
     "execution_count": 50,
     "metadata": {},
     "output_type": "execute_result"
    }
   ],
   "source": [
    "PIL.Image.open(image_patches[0])"
   ]
  },
  {
   "cell_type": "code",
   "execution_count": 41,
   "id": "ba1b4397-06b6-4af1-9136-7fadade9e9bf",
   "metadata": {},
   "outputs": [
    {
     "data": {
      "text/plain": [
       "2"
      ]
     },
     "execution_count": 41,
     "metadata": {},
     "output_type": "execute_result"
    }
   ],
   "source": [
    "mask_patches = list_data_files(MASKS_DATA_DIR)\n",
    "len(mask_patches)"
   ]
  },
  {
   "cell_type": "code",
   "execution_count": 42,
   "id": "bd2c2543-aff3-4730-b1ad-2c5c6531ce74",
   "metadata": {},
   "outputs": [
    {
     "name": "stdout",
     "output_type": "stream",
     "text": [
      "S2A_MSIL2A_20170613T101031_N9999_R022_T33UUP_26_57_reference_map.tif\n",
      "S2A_MSIL2A_20170613T101031_N9999_R022_T33UUP_27_55_reference_map.tif\n"
     ]
    }
   ],
   "source": [
    "for mask in mask_patches:\n",
    "    print(mask.name)"
   ]
  },
  {
   "cell_type": "code",
   "execution_count": 43,
   "id": "02c3a5d4-5ea7-4de6-a35c-a85fcc9f2626",
   "metadata": {},
   "outputs": [
    {
     "data": {
      "text/plain": [
       "'S2A_MSIL2A_20170613T101031_N9999_R022_T33UUP_26_57_B02.tif'"
      ]
     },
     "execution_count": 43,
     "metadata": {},
     "output_type": "execute_result"
    }
   ],
   "source": [
    "img_path = image_patches[0]\n",
    "img_path.name"
   ]
  },
  {
   "cell_type": "code",
   "execution_count": 44,
   "id": "49070966-ed59-4b3b-8bc1-f41b60e8ee96",
   "metadata": {},
   "outputs": [
    {
     "data": {
      "text/plain": [
       "(120, 120)"
      ]
     },
     "execution_count": 44,
     "metadata": {},
     "output_type": "execute_result"
    }
   ],
   "source": [
    "dataset = rasterio.open(img_path)\n",
    "dataset.width, dataset.height"
   ]
  },
  {
   "cell_type": "code",
   "execution_count": 45,
   "id": "35ed1a88-cba7-42f7-8d32-83ca32a5c455",
   "metadata": {},
   "outputs": [
    {
     "data": {
      "text/plain": [
       "BoundingBox(left=331200.0, bottom=5330400.0, right=332400.0, top=5331600.0)"
      ]
     },
     "execution_count": 45,
     "metadata": {},
     "output_type": "execute_result"
    }
   ],
   "source": [
    "dataset.bounds"
   ]
  },
  {
   "cell_type": "code",
   "execution_count": 46,
   "id": "bdc3f825-cc72-43f5-b8ba-3f0c06949d43",
   "metadata": {},
   "outputs": [
    {
     "name": "stdout",
     "output_type": "stream",
     "text": [
      "EPSG:32633\n"
     ]
    }
   ],
   "source": [
    "print(dataset.crs)"
   ]
  },
  {
   "cell_type": "code",
   "execution_count": 47,
   "id": "c0fcc656-1570-4bd8-bcea-0efdc97077bc",
   "metadata": {},
   "outputs": [],
   "source": [
    "band = dataset.read(1)"
   ]
  }
 ],
 "metadata": {
  "kernelspec": {
   "display_name": "Python 3 (ipykernel)",
   "language": "python",
   "name": "python3"
  },
  "language_info": {
   "codemirror_mode": {
    "name": "ipython",
    "version": 3
   },
   "file_extension": ".py",
   "mimetype": "text/x-python",
   "name": "python",
   "nbconvert_exporter": "python",
   "pygments_lexer": "ipython3",
   "version": "3.12.5"
  }
 },
 "nbformat": 4,
 "nbformat_minor": 5
}
