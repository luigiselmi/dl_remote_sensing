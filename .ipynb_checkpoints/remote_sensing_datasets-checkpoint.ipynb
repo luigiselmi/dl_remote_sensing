{
 "cells": [
  {
   "cell_type": "markdown",
   "id": "8d20285b-b4fa-4a5e-bec7-f5c7b7593dc0",
   "metadata": {},
   "source": [
    "# Remote Sensing Datasets"
   ]
  },
  {
   "cell_type": "code",
   "execution_count": null,
   "id": "558c1c09-9ab1-4b87-8723-487d03ceacc3",
   "metadata": {},
   "outputs": [],
   "source": []
  }
 ],
 "metadata": {
  "kernelspec": {
   "display_name": "Python 3 (ipykernel)",
   "language": "python",
   "name": "python3"
  },
  "language_info": {
   "codemirror_mode": {
    "name": "ipython",
    "version": 3
   },
   "file_extension": ".py",
   "mimetype": "text/x-python",
   "name": "python",
   "nbconvert_exporter": "python",
   "pygments_lexer": "ipython3",
   "version": "3.12.5"
  }
 },
 "nbformat": 4,
 "nbformat_minor": 5
}
