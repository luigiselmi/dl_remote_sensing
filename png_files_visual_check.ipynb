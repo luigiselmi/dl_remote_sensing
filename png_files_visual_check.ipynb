{
 "cells": [
  {
   "cell_type": "markdown",
   "metadata": {
    "colab_type": "text",
    "id": "view-in-github"
   },
   "source": [
    "<a href=\"https://colab.research.google.com/github/luigiselmi/dl_remote_sensing/blob/main/png_files_visual_check.ipynb\" target=\"_parent\"><img src=\"https://colab.research.google.com/assets/colab-badge.svg\" alt=\"Open In Colab\"/></a>"
   ]
  },
  {
   "cell_type": "markdown",
   "metadata": {
    "id": "nmIrefBJWqFg"
   },
   "source": [
    "# PNG files visual check\n",
    "We assess the result of the transformation from TIFF bands to PNG images. We image and mask datasets are downloaded from an S3 bucket, unzipped and visualized."
   ]
  },
  {
   "cell_type": "code",
   "execution_count": 5,
   "metadata": {
    "id": "Ad04ipvCTURL"
   },
   "outputs": [],
   "source": [
    "import numpy as np\n",
    "import os\n",
    "import sys\n",
    "from osgeo import gdal, osr, ogr\n",
    "import pathlib\n",
    "import PIL\n",
    "from PIL import Image, ImageDraw\n",
    "from skimage import io\n",
    "from skimage import exposure\n",
    "from skimage.io import imread\n",
    "import tifffile as tiff\n",
    "import matplotlib\n",
    "import matplotlib.pyplot as plt\n",
    "import zipfile\n",
    "from zipfile import ZipFile\n",
    "import warnings\n",
    "warnings.filterwarnings('ignore')\n"
   ]
  },
  {
   "cell_type": "markdown",
   "metadata": {
    "id": "uk-95quiXUZG"
   },
   "source": [
    "We download the data in Colab using a presigned url"
   ]
  },
  {
   "cell_type": "code",
   "execution_count": 2,
   "metadata": {
    "colab": {
     "base_uri": "https://localhost:8080/",
     "height": 0
    },
    "id": "G4c1IbAXSSSl",
    "outputId": "4f40e03d-91c5-41bb-d11d-9af83a6e6fb4"
   },
   "outputs": [
    {
     "name": "stderr",
     "output_type": "stream",
     "text": [
      "--2025-07-01 16:26:19--  https://selmilab-bucket.s3.eu-south-1.amazonaws.com/bigearthnet_pngs.zip\n",
      "Resolving selmilab-bucket.s3.eu-south-1.amazonaws.com (selmilab-bucket.s3.eu-south-1.amazonaws.com)... 3.5.248.117, 3.5.250.23\n",
      "Connecting to selmilab-bucket.s3.eu-south-1.amazonaws.com (selmilab-bucket.s3.eu-south-1.amazonaws.com)|3.5.248.117|:443... connected.\n",
      "HTTP request sent, awaiting response... 403 Forbidden\n",
      "2025-07-01 16:26:19 ERROR 403: Forbidden.\n",
      "\n"
     ]
    }
   ],
   "source": [
    "!wget 'https://selmilab-bucket.s3.eu-south-1.amazonaws.com/bigearthnet_pngs.zip' -O bigearthnet_png.zip"
   ]
  },
  {
   "cell_type": "code",
   "execution_count": 3,
   "metadata": {
    "colab": {
     "base_uri": "https://localhost:8080/",
     "height": 0
    },
    "id": "iwvnqHJCSl-U",
    "outputId": "3283b843-5868-4b38-811d-3dc8bf547ca1"
   },
   "outputs": [
    {
     "name": "stderr",
     "output_type": "stream",
     "text": [
      "--2025-07-01 16:26:43--  https://selmilab-bucket.s3.eu-south-1.amazonaws.com/bigearthnet_mask_pngs.zip\n",
      "Resolving selmilab-bucket.s3.eu-south-1.amazonaws.com (selmilab-bucket.s3.eu-south-1.amazonaws.com)... 3.5.249.162, 3.5.250.0\n",
      "Connecting to selmilab-bucket.s3.eu-south-1.amazonaws.com (selmilab-bucket.s3.eu-south-1.amazonaws.com)|3.5.249.162|:443... connected.\n",
      "HTTP request sent, awaiting response... 403 Forbidden\n",
      "2025-07-01 16:26:43 ERROR 403: Forbidden.\n",
      "\n"
     ]
    }
   ],
   "source": [
    "!wget 'https://selmilab-bucket.s3.eu-south-1.amazonaws.com/bigearthnet_mask_pngs.zip' -O bigearthnet_mask_png.zip"
   ]
  },
  {
   "cell_type": "code",
   "execution_count": 6,
   "metadata": {
    "id": "7rfGR8aHTIkF"
   },
   "outputs": [],
   "source": [
    "def unzip_pngs(source_zip_file, target_folder):\n",
    "    with ZipFile(source_zip_file, 'r') as zipObj:\n",
    "        zipObj.extractall(path=f'{target_folder}')"
   ]
  },
  {
   "cell_type": "code",
   "execution_count": 7,
   "metadata": {
    "id": "VyTl9nswTt5B"
   },
   "outputs": [],
   "source": [
    "unzip_pngs('bigearthnet_png.zip', 'images')"
   ]
  },
  {
   "cell_type": "code",
   "execution_count": 8,
   "metadata": {
    "id": "OCTmi_kgUHfI"
   },
   "outputs": [],
   "source": [
    "unzip_pngs('bigearthnet_mask_png.zip', 'masks')"
   ]
  },
  {
   "cell_type": "code",
   "execution_count": 9,
   "metadata": {
    "id": "EJ3qMoL1UnDx"
   },
   "outputs": [],
   "source": [
    "def norm_image(image_array):\n",
    "    '''\n",
    "    This function takes a NumPy array as input, computes min and max\n",
    "    and returns a normalized array with values in [0, 1]\n",
    "    '''\n",
    "    max_image = image_array.max()\n",
    "    min_image = image_array.min()\n",
    "    image_array_norm = (image_array - min_image) / (max_image - min_image + 1)\n",
    "    return image_array_norm"
   ]
  },
  {
   "cell_type": "code",
   "execution_count": 16,
   "metadata": {
    "id": "AXNXHtaRUT6j"
   },
   "outputs": [],
   "source": [
    "def plot_examples(images_list, masks_list):\n",
    "    #fig_rows = len(masks_list)\n",
    "    fig_rows = 10\n",
    "    fig, axs = plt.subplots(nrows=fig_rows, ncols=2, figsize=(5, 3), layout='constrained')\n",
    "    for row in range(0, fig_rows):\n",
    "        img = norm_image(np.array(Image.open(images_list[row])))\n",
    "        msk = norm_image(np.array(Image.open(masks_list[row])))\n",
    "        axs[row, 0].set_axis_off()\n",
    "        axs[row, 1].set_axis_off()\n",
    "        axs[row, 0].imshow(img)\n",
    "        axs[row, 1].imshow(msk)"
   ]
  },
  {
   "cell_type": "code",
   "execution_count": 11,
   "metadata": {
    "colab": {
     "base_uri": "https://localhost:8080/",
     "height": 0
    },
    "id": "4pDwpCCYUzQI",
    "outputId": "04d20b0c-8110-4677-a267-9d12c061b1e3"
   },
   "outputs": [
    {
     "data": {
      "text/plain": [
       "28766"
      ]
     },
     "execution_count": 11,
     "metadata": {},
     "output_type": "execute_result"
    }
   ],
   "source": [
    "images_path = pathlib.Path('images')\n",
    "images_list = [pathlib.Path(x) for x in images_path.iterdir()]\n",
    "len(images_list)"
   ]
  },
  {
   "cell_type": "code",
   "execution_count": 12,
   "metadata": {
    "colab": {
     "base_uri": "https://localhost:8080/",
     "height": 0
    },
    "id": "jHgHhqppVn__",
    "outputId": "edf5ab63-b925-4b11-a6e1-a87f883bee10"
   },
   "outputs": [
    {
     "data": {
      "text/plain": [
       "28766"
      ]
     },
     "execution_count": 12,
     "metadata": {},
     "output_type": "execute_result"
    }
   ],
   "source": [
    "masks_path = pathlib.Path('masks')\n",
    "masks_list = [pathlib.Path(x) for x in masks_path.iterdir()]\n",
    "len(masks_list)"
   ]
  },
  {
   "cell_type": "code",
   "execution_count": 17,
   "metadata": {
    "colab": {
     "base_uri": "https://localhost:8080/",
     "height": 328
    },
    "id": "UqCTNe-EUwwg",
    "outputId": "e06cfc94-17b6-4f3d-9665-ef89d172bf7d"
   },
   "outputs": [
    {
     "data": {
      "image/png": "[encoded data removed]",
      "text/plain": [
       "<Figure size 500x300 with 20 Axes>"
      ]
     },
     "metadata": {},
     "output_type": "display_data"
    }
   ],
   "source": [
    "plot_examples(images_list, masks_list)"
   ]
  },
  {
   "cell_type": "code",
   "execution_count": null,
   "metadata": {
    "id": "9lVQYA4OV7NH"
   },
   "outputs": [],
   "source": []
  }
 ],
 "metadata": {
  "colab": {
   "authorship_tag": "ABX9TyNXOZSsDvra6L/22XB+F+6n",
   "include_colab_link": true,
   "provenance": []
  },
  "kernelspec": {
   "display_name": "Python 3 (ipykernel)",
   "language": "python",
   "name": "python3"
  },
  "language_info": {
   "codemirror_mode": {
    "name": "ipython",
    "version": 3
   },
   "file_extension": ".py",
   "mimetype": "text/x-python",
   "name": "python",
   "nbconvert_exporter": "python",
   "pygments_lexer": "ipython3",
   "version": "3.12.5"
  }
 },
 "nbformat": 4,
 "nbformat_minor": 4
}
