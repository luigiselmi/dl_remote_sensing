{
 "cells": [
  {
   "cell_type": "markdown",
   "id": "ea439750-f69b-4c7f-939b-b2c3e5c3b01b",
   "metadata": {},
   "source": [
    "# BigEarthNetv2-RGB data preparation\n",
    "The BigEarthNetv2 dataset contains 549488 Sentinel-2 image patches with the corresponding masks that can be used to train a model for satellite image classification and segmentation. For each patch the dataset contains 12 of the Sentinel-2 13 bands, that is, all but B10. In this notebook are implemeted some functions to create PNG files using the three RGB bands (B02, B03, B04) for all the patches available in BigEarthnetv2. More information about the dataset is available at the [BigEarthNet](https://bigearth.net/) website.\n",
    "\n",
    "* B01 (resolution = 60m/px, central wavelength = 443nm, bandwidth = 20nm, use: aerosol detection)\n",
    "* B02 (blue, resolution = 10m/px, central wavelength = 490nm, bandwidth = 65nm, use: Band 2 is useful for soil and vegetation discrimination, forest type mapping and identifying man-made features. It is scattered by the atmosphere, it illuminates material in shadows better than longer wavelengths, and it penetrates clear water better than other colors. It is absorbed by chlorophyll, which results in darker plants.)\n",
    "* B03 (green, resolution = 10m/px, central wavelength = 560nm, bandwidth = 35nm, use: it gives excellent contrast between clear and turbid (muddy) water, and penetrates clear water fairly well. It helps in highlighting oil on water surfaces, and vegetation. It reflects green light stronger than any other visible color. Man-made features are still visible)\n",
    "* B04 (red, resolution = 10m/px, central wavelength = 665nm, bandwidth = 30nm, use: it is strongly reflected by dead foliage and is useful for identifying vegetation types, soils and urban (city and town) areas. It has limited water penetration and doesn’t reflect well from live foliage with chlorophyll.)\n",
    "* B05 (red edge, resolution = 20m/px, central wavelength = 705nm, bandwidth = 15nm, use: vegetation classification)\n",
    "* B06 (resolution = 20m/px, central wavelength = 740nm, bandwidth = 15nm, use: vegetation classification)\n",
    "* B07 (resolution = 20m/px, central wavelength = 783nm, bandwidth = 20nm, use: vegetation classification)\n",
    "* B08 (NIR, resolution = 10m/px, central wavelength = 842nm, bandwidth = 115nm, use: The near infrared band is good for mapping shorelines and biomass content, as well as at detecting and analyzing vegetation)\n",
    "* B8A (resolution = 20m/px, central wavelength = 865nm, bandwidth = 20nm, use: For classifying vegetation)\n",
    "* B09 (resolution = 60m/px, central wavelength = 945nm, bandwidth = 20nm, use: it is good for detecting water vapour)\n",
    "* B10 (resolution = 60m/px, central wavelength = 1375nm, bandwidth = 30nm, use: For cirrus cloud detection)\n",
    "* B11 (SWIR 1, resolution = 20m/px, central wavelength = 1610nm, bandwidth = 90nm, use: It is useful for measuring the moisture content of soil and vegetation, and it provides good contrast between different types of vegetation. It helps differentiate between snow and clouds. On the other hand, it has limited cloud penetration)\n",
    "* B12 (SWIR 2, resolution = 20m/px, central wavelength = 2190nm, bandwidth = 180nm, use: It is useful for measuring the moisture content of soil and vegetation, and it provides good contrast between different types of vegetation. It helps differentiate between snow and clouds. On the other hand, it has limited cloud penetration)"
   ]
  },
  {
   "attachments": {},
   "cell_type": "markdown",
   "id": "1caad934-44e2-4cdc-8b9f-b2d36afb4938",
   "metadata": {},
   "source": [
    "## Corine Land Cover classes\n",
    "The integer values in the masks represent the land cover classes in the Corine Land Cover ([CLC](https://land.copernicus.eu/content/corine-land-cover-nomenclature-guidelines/html/)) classification system. Corine is a hierarchical classification system with three levels. The 1st level has 5 classes, the 2nd level 14, and the 3rd level 44 classes that represents the total number of classes available in Corine. In the images the code 999, that doesn't belong to the Corine2018 codes, is used to annotate the pixels that were not classified.\n",
    "\n",
    "| Category | Code |RGB Color Code|\n",
    "|:--------|:--------|:------|\n",
    "| Artificial surfaces | 1 | 230-000-077|   \n",
    "| Urban fabric | 11 |255-000-000|\n",
    "| Continuous urban fabric | 111 |204-077-242|\n",
    "| Discontinuous urban fabric | 112 | 204-000-000|\n",
    "| Industrial, commercial and transport units | 12 |230-204-204|\n",
    "| Industrial or commercial units | 121 |230-204-230|\n",
    "| Road and rail networks and associated land | 122 |166-000-204| \n",
    "| Port areas | 123 |166-077-000|255-077-255|\n",
    "| Airports | 124 |\n",
    "| Mine, dump and construction sites | 13 |\n",
    "| Mineral extraction sites | 131 |\n",
    "| Dump sites | 132 |\n",
    "| Construction sites | 133 | \n",
    "| Artificial, non-agricultural vegetated areas | 14 |\n",
    "| Green urban areas | 141 | \n",
    "| Sport and leisure facilities | 142 | \n",
    "| Agricultural areas | 2 |\n",
    "| Arable land | 21 |\n",
    "| Non-irrigated arable land | 211 | \n",
    "| Permanently irrigated land | 212 | \n",
    "| Rice fields | 213 |\n",
    "| Permanent crops | 22 |\n",
    "| Vineyards | 221 | \n",
    "| Fruit trees and berry plantations | 222 | \n",
    "| Olive groves | 223 | \n",
    "| Pastures | 23 |\n",
    "| Pastures | 231 | \n",
    "| Heterogeneous agricultural areas | 24 |\n",
    "| Annual crops associated with permanent crops | 241 | \n",
    "| Complex cultivation patterns | 242 | \n",
    "| Land principally occupied by agriculture, with significant areas of natural vegetation | 243 |\n",
    "| Agro-forestry areas | 244 |\n",
    "| Forest and semi natural areas | 3 |\n",
    "| Forests | 31 |\n",
    "| Broad-leaved forest | 311 | \n",
    "| Coniferous forest | 312 | \n",
    "| Mixed forest | 313 | \n",
    "| Scrub and/or herbaceous vegetation associations | 32 |\n",
    "| Natural grasslands | 321 |\n",
    "| Moors and heathland | 322 |\n",
    "| Sclerophyllous vegetation | 323 |\n",
    "| Transitional woodland-shrub | 324 |\n",
    "| Open spaces with little or no vegetation | 33 |\n",
    "| Beaches, dunes, sands | 331 |\n",
    "| Bare rock | 332 |\n",
    "| Sparsely vegetated areas | 333 |\n",
    "| Burnt areas | 334 |\n",
    "| Wetlands | 4 |\n",
    "| Inland wetlands | 41 |\n",
    "| Inland marshes | 411 |\n",
    "| Peat bogs | 412 |\n",
    "| Maritime wetlands | 42 |\n",
    "| Salt marshes | 421 |\n",
    "| Salines | 422 |\n",
    "| Intertidal flats | 423 |\n",
    "| Water bodies | 5 |\n",
    "| Inland waters | 51 |\n",
    "| Water courses | 511 |\n",
    "| Water bodies | 512 |\n",
    "| Marine waters | 52 |\n",
    "| Coastal lagoons | 521 |\n",
    "| Estuaries | 522 |\n",
    "| Sea and ocean | 523 |\n",
    "\n",
    "According to the paper by Closen et al., BigEarthNetv2 uses only 19 classes of the Corine Land Cover 2018 "
   ]
  },
  {
   "cell_type": "markdown",
   "id": "557c8634-0337-4748-9d01-589d7a2e1e26",
   "metadata": {},
   "source": [
    "## Remote sensing derived indices \n",
    "RGB, NIR and SWIR bands can be used to build indices to enhance the response for specif types of land cover such as vegetation built or burnt areas. Some of these indeces are: NDVI, SAVI, ARVI, VARI, NDBI, NBR."
   ]
  },
  {
   "cell_type": "markdown",
   "id": "b36001d9-d887-4fde-a1c1-85a4c079c8cd",
   "metadata": {},
   "source": [
    "## Notebook workflow\n",
    "The purpose of this notebook is to transform the bands and masks available from the BigEarthNetv2 dataset in TIFF format into RGB images and masks in PNG format in order to be loaded into batches for the training of a segmentation model. The reason to transform the TIFF images into PNG format is that the TIFF format contains metadata and is more challenging to use than PNG for training. We will use only the three RGB bands: B02 (blue), B03 (green), and B04 (red). The masks have been created using 19 classes of the CORINE Land Cover (CLC) nomenclature. The data preparation phase consists of \n",
    "\n",
    "1. Collect the RGB bands of each image patch\n",
    "2. Create a RGB PNG file for each patch using the three bands in the TIFF format\n",
    "3. Create a mask PNG file for each patch using the single band in the TIFF format  \n",
    "4. Create three datasets of examples, with RGB and mask in the PNG format, for training, validation and test\n",
    "\n",
    "The Sentinel-2 BigEarthNetv2 dataset, patches and masks, can be downloaded as tar and zst compressed files of 59 GB and 270 MB respectively. It can be decompressed frpm zst, in a MS Windows OS, using [7-Zip](https://www.7-zip.org/) For example to unzip the masks use the comands:\n",
    "````\n",
    "$ 7z x Reference_Maps.tar.zst\n",
    "````\n",
    "and then tar\n",
    "````\n",
    "$ tar xvf Reference_Maps.tar\n",
    "````"
   ]
  },
  {
   "cell_type": "markdown",
   "id": "c659d089-e931-40f4-b442-a77a9cf9d045",
   "metadata": {},
   "source": [
    "## Structure of the dataset\n",
    "The BigEarthNetv2 dataset is organized into two root folders, one for the images and one for the masks, like in the following example with only two image patches of one tile. \n",
    "* BigEarthNet-S2\n",
    "    * images\n",
    "        * S2A_MSIL2A_20170613T101031_N9999_R022_T33UUP\n",
    "            * S2A_MSIL2A_20170613T101031_N9999_R022_T33UUP_26_57\n",
    "                * S2A_MSIL2A_20170613T101031_N9999_R022_T33UUP_26_57_B02.tif\n",
    "                * S2A_MSIL2A_20170613T101031_N9999_R022_T33UUP_26_57_B03.tif\n",
    "                * S2A_MSIL2A_20170613T101031_N9999_R022_T33UUP_26_57_B04.tif\n",
    "            * S2A_MSIL2A_20170613T101031_N9999_R022_T33UUP_27_55\n",
    "                * S2A_MSIL2A_20170613T101031_N9999_R022_T33UUP_27_55_B02.tif\n",
    "                * S2A_MSIL2A_20170613T101031_N9999_R022_T33UUP_27_55_B03.tif\n",
    "                * S2A_MSIL2A_20170613T101031_N9999_R022_T33UUP_27_55_B04.tif\n",
    "    * masks\n",
    "        * S2A_MSIL2A_20170613T101031_N9999_R022_T33UUP\n",
    "            * S2A_MSIL2A_20170613T101031_N9999_R022_T33UUP_26_57\n",
    "                * S2A_MSIL2A_20170613T101031_N9999_R022_T33UUP_26_57_reference_map.tif\n",
    "            * S2A_MSIL2A_20170613T101031_N9999_R022_T33UUP_26_57\n",
    "                * S2A_MSIL2A_20170613T101031_N9999_R022_T33UUP_27_55_reference_map.tif\n",
    "\n",
    "Each patch folders contain 12 TIFF images, one for each Sentinel-2 bands. A patch mask folder contain only one TIFF file. The file name is built using the convention \n",
    "\n",
    "&lt;satellite&gt;&lt;sensor&gt;&lt;date&gt;&lt;N9999&gt;&lt;R relative orbit number&gt;&lt;T sentinel2 tile number&gt;&lt;patch horizontal index&gt;&lt;patch vertical index&gt;&lt;band&gt;\n",
    "\n",
    "as in [BigEarthNet_v2 dataset documentation](https://bigearth.net/static/documents/Description_BigEarthNet_v2.pdf). The Sentinel-2 tile number starts with the UTM zone, e.g. 33 in the sample images, then the latitude chunk, e.g. U, and finally two letters for the longitude, one for the west chunk and one for the east chunk, e.g. U and P."
   ]
  },
  {
   "cell_type": "markdown",
   "id": "270f9613-b3b3-4c43-bf64-68a9ab9de68e",
   "metadata": {},
   "source": [
    "We import some functions and constants developed for the project"
   ]
  },
  {
   "cell_type": "code",
   "execution_count": 1,
   "id": "1f4a44f3-87c2-484d-a82b-f118708bba6e",
   "metadata": {},
   "outputs": [],
   "source": [
    "#from scripts.bigearthnetv2_data_preparation import *"
   ]
  },
  {
   "cell_type": "markdown",
   "id": "c9b9629f-7717-47a6-9969-9d5d78818548",
   "metadata": {},
   "source": [
    "In development phase we have to execute the script to use the updated functions without restarting the notebook"
   ]
  },
  {
   "cell_type": "code",
   "execution_count": 2,
   "id": "ce65e556-f1ab-4d0d-b756-c254dc0e6fb9",
   "metadata": {},
   "outputs": [],
   "source": [
    "%run -i lib/bigearthnetv2_lib.py"
   ]
  },
  {
   "cell_type": "code",
   "execution_count": 3,
   "id": "bab963dd-2185-42aa-87ce-a02963bd828b",
   "metadata": {},
   "outputs": [
    {
     "name": "stdout",
     "output_type": "stream",
     "text": [
      "NumPy version: 1.26.4\n",
      "GDAL version: 3.10.2\n",
      "Matplotlib version: 3.8.4\n",
      "rasterio version: 1.4.3\n"
     ]
    }
   ],
   "source": [
    "print(\"NumPy version: %s\"%np.__version__)\n",
    "print(\"GDAL version: %s\"%gdal.__version__)\n",
    "print(\"Matplotlib version: %s\"%matplotlib.__version__)\n",
    "print(\"rasterio version: %s\"%rasterio.__version__)"
   ]
  },
  {
   "cell_type": "markdown",
   "id": "b9c24f22-dac6-4090-9d91-0b02b60af390",
   "metadata": {},
   "source": [
    "## Data collection\n",
    "We collect the RGB bands for the images and the masks"
   ]
  },
  {
   "cell_type": "markdown",
   "id": "4a4560e3-04e4-45be-92c7-9c0d51954f18",
   "metadata": {},
   "source": [
    "### RGB images\n",
    "We select three bands for each RGB image that will be created using the PNG format. We use a subset of the information encoded in the TIFF file names to create the PNG file name. "
   ]
  },
  {
   "cell_type": "code",
   "execution_count": 7,
   "id": "643a6c3b-8435-4fc4-b9ba-82167670776e",
   "metadata": {},
   "outputs": [],
   "source": [
    "BIGEARTHNETv2_DIR = 'data'\n",
    "IMAGES_DATA_DIR = pathlib.Path(BIGEARTHNETv2_DIR + '/BigEarthNet-S2')\n",
    "MASKS_DATA_DIR = pathlib.Path(BIGEARTHNETv2_DIR + '/Reference_Maps')"
   ]
  },
  {
   "cell_type": "code",
   "execution_count": 8,
   "id": "79d77efd-ca3b-4072-9de7-5710f4aec529",
   "metadata": {},
   "outputs": [],
   "source": [
    "band_file = 'S2A_MSIL2A_20170613T101031_N9999_R022_T33UUP_26_57_B01.tif'"
   ]
  },
  {
   "cell_type": "code",
   "execution_count": 9,
   "id": "db91a22e-34e8-49df-919f-634929bc68cc",
   "metadata": {},
   "outputs": [
    {
     "name": "stdout",
     "output_type": "stream",
     "text": [
      "Tile: R022_T33UUP\n",
      "Patch: 26_57\n",
      "Band: B01\n",
      "Date: 20170613\n"
     ]
    }
   ],
   "source": [
    "tile, patch, band, date = read_band_name(band_file)\n",
    "print('Tile: {}\\nPatch: {}\\nBand: {}\\nDate: {}'.format(tile, patch, band, date))"
   ]
  },
  {
   "cell_type": "code",
   "execution_count": 10,
   "id": "114b0ba0-cf9a-4102-bab4-e181a512dc27",
   "metadata": {},
   "outputs": [
    {
     "data": {
      "text/plain": [
       "'R022_T33UUP_26_57_20170613.png'"
      ]
     },
     "execution_count": 10,
     "metadata": {},
     "output_type": "execute_result"
    }
   ],
   "source": [
    "create_png_file_name(tile, patch, date)"
   ]
  },
  {
   "cell_type": "markdown",
   "id": "cf22e56f-4293-4a25-8f36-1fb52f1f6485",
   "metadata": {},
   "source": [
    "We collect the paths of the patches within the tiles between a start tile and and end tile for the images"
   ]
  },
  {
   "cell_type": "code",
   "execution_count": 11,
   "id": "8f8749c8-5219-4a58-8e61-d64e4fee42c8",
   "metadata": {},
   "outputs": [],
   "source": [
    "start_tile_index = 0\n",
    "end_tile_index = 2"
   ]
  },
  {
   "cell_type": "code",
   "execution_count": 12,
   "id": "7aa9fb47-f55d-4f57-b70a-9d03a642aaa0",
   "metadata": {},
   "outputs": [],
   "source": [
    "tiles_list = list_image_files(IMAGES_DATA_DIR, start_tile_index, end_tile_index)"
   ]
  },
  {
   "cell_type": "code",
   "execution_count": 13,
   "id": "c0af3cd5-f619-45d6-bb71-b84ac8eeec6f",
   "metadata": {},
   "outputs": [
    {
     "name": "stdout",
     "output_type": "stream",
     "text": [
      "Number of tiles: 2\n"
     ]
    }
   ],
   "source": [
    "num_tiles = len(tiles_list)\n",
    "print('Number of tiles: {:d}'.format(num_tiles))"
   ]
  },
  {
   "cell_type": "code",
   "execution_count": 14,
   "id": "94b1e982-376b-4138-bb3e-7ffd10171a00",
   "metadata": {},
   "outputs": [
    {
     "name": "stdout",
     "output_type": "stream",
     "text": [
      "S2A_MSIL2A_20170613T101031_N9999_R022_T33UUP_26_57_B04.tif\n",
      "S2A_MSIL2A_20170613T101031_N9999_R022_T33UUP_26_57_B03.tif\n",
      "S2A_MSIL2A_20170613T101031_N9999_R022_T33UUP_26_57_B02.tif\n",
      "\n",
      "\n",
      "S2A_MSIL2A_20170613T101031_N9999_R022_T33UUP_27_55_B04.tif\n",
      "S2A_MSIL2A_20170613T101031_N9999_R022_T33UUP_27_55_B03.tif\n",
      "S2A_MSIL2A_20170613T101031_N9999_R022_T33UUP_27_55_B02.tif\n",
      "\n",
      "\n",
      "\n",
      "\n",
      "S2A_MSIL2A_20170613T101031_N9999_R022_T34VER_00_45_B04.tif\n",
      "S2A_MSIL2A_20170613T101031_N9999_R022_T34VER_00_45_B03.tif\n",
      "S2A_MSIL2A_20170613T101031_N9999_R022_T34VER_00_45_B02.tif\n",
      "\n",
      "\n",
      "S2A_MSIL2A_20170613T101031_N9999_R022_T34VER_00_46_B04.tif\n",
      "S2A_MSIL2A_20170613T101031_N9999_R022_T34VER_00_46_B03.tif\n",
      "S2A_MSIL2A_20170613T101031_N9999_R022_T34VER_00_46_B02.tif\n",
      "\n",
      "\n",
      "\n",
      "\n",
      "Number of RGB bands: 12\n"
     ]
    }
   ],
   "source": [
    "num_rgb_bands = print_images_list(tiles_list)\n",
    "print('Number of RGB bands: {:d}'.format(num_rgb_bands))"
   ]
  },
  {
   "cell_type": "markdown",
   "id": "f06b7198-a136-45cc-a615-f55245733e97",
   "metadata": {},
   "source": [
    "We open one band of a patch to get its data type and plot its histogram"
   ]
  },
  {
   "cell_type": "code",
   "execution_count": 15,
   "id": "22ae397b-e672-4b96-afa4-14d0f7b17628",
   "metadata": {},
   "outputs": [
    {
     "data": {
      "text/plain": [
       "'data\\\\BigEarthNet-S2\\\\S2A_MSIL2A_20170613T101031_N9999_R022_T33UUP\\\\S2A_MSIL2A_20170613T101031_N9999_R022_T33UUP_26_57\\\\S2A_MSIL2A_20170613T101031_N9999_R022_T33UUP_26_57_B02.tif'"
      ]
     },
     "execution_count": 15,
     "metadata": {},
     "output_type": "execute_result"
    }
   ],
   "source": [
    "img_path = str(tiles_list[0][0][0])\n",
    "img_path"
   ]
  },
  {
   "cell_type": "markdown",
   "id": "1152f84a-2e9d-49c9-a938-65a7ca4b4f18",
   "metadata": {},
   "source": [
    "We can normalize the pixel values to be withn [0, 1]\n",
    "\n",
    "$$x_{norm} = \\frac{x - x_{max}}{x_{max} - x_{min}}$$"
   ]
  },
  {
   "cell_type": "code",
   "execution_count": 16,
   "id": "fd9bb608-9e80-4262-af1c-e331b554497d",
   "metadata": {},
   "outputs": [
    {
     "data": {
      "text/plain": [
       "(dtype('uint16'), (120, 120))"
      ]
     },
     "execution_count": 16,
     "metadata": {},
     "output_type": "execute_result"
    }
   ],
   "source": [
    "image_array = get_image_array(img_path)\n",
    "image_array.dtype, image_array.shape"
   ]
  },
  {
   "cell_type": "markdown",
   "id": "12c262a5-7f6a-444c-bf63-e8225af44857",
   "metadata": {},
   "source": [
    "The band data type is uint16. We will use the same type for the PNG file."
   ]
  },
  {
   "cell_type": "code",
   "execution_count": 17,
   "id": "ae89209a-fee8-4dd0-a29d-266cfe305202",
   "metadata": {},
   "outputs": [
    {
     "data": {
      "text/plain": [
       "(0.0, 0.9993964996982498)"
      ]
     },
     "execution_count": 17,
     "metadata": {},
     "output_type": "execute_result"
    }
   ],
   "source": [
    "image_array_norm = norm_image(image_array)\n",
    "image_array_norm.min(), image_array_norm.max()"
   ]
  },
  {
   "cell_type": "code",
   "execution_count": 18,
   "id": "8693f0b8-0eeb-4799-ac78-006e9445368e",
   "metadata": {},
   "outputs": [
    {
     "data": {
      "text/plain": [
       "<matplotlib.image.AxesImage at 0x22e54eeeb40>"
      ]
     },
     "execution_count": 18,
     "metadata": {},
     "output_type": "execute_result"
    },
    {
     "data": {
      "image/png": "[encoded data removed]",
      "text/plain": [
       "<Figure size 640x480 with 1 Axes>"
      ]
     },
     "metadata": {},
     "output_type": "display_data"
    }
   ],
   "source": [
    "plt.imshow(image_array_norm, cmap='gray')"
   ]
  },
  {
   "cell_type": "code",
   "execution_count": 19,
   "id": "ee5135e0-6e63-40f4-8462-642293e2f991",
   "metadata": {},
   "outputs": [
    {
     "data": {
      "image/png": "[encoded data removed]",
      "text/plain": [
       "<Figure size 640x480 with 1 Axes>"
      ]
     },
     "metadata": {},
     "output_type": "display_data"
    }
   ],
   "source": [
    "show_hist(\n",
    "    image_array, bins=50, lw=0.0, stacked=False, alpha=0.3,\n",
    "    histtype='stepfilled', title=\"Single band image histogram\")"
   ]
  },
  {
   "cell_type": "markdown",
   "id": "8ee7ef34-6310-4f68-bfd1-fac6a454adcc",
   "metadata": {},
   "source": [
    "### Masks\n",
    "The BigEarthNet masks are provided as TIFF files. As reported in the [dataset description](https://bigearth.net/static/documents/Description_BigEarthNet_v2.pdf), each pixel in a mask (aka reference map) is associated to either one of the CLC Level-3 class labels or with an additional Unlabeled class label which indicates a pixel that does not have an associated CLC label."
   ]
  },
  {
   "cell_type": "code",
   "execution_count": 20,
   "id": "ba1b4397-06b6-4af1-9136-7fadade9e9bf",
   "metadata": {},
   "outputs": [
    {
     "data": {
      "text/plain": [
       "2"
      ]
     },
     "execution_count": 20,
     "metadata": {},
     "output_type": "execute_result"
    }
   ],
   "source": [
    "tiles_mask_list = list_mask_files(MASKS_DATA_DIR, start_tile_index, end_tile_index)\n",
    "len(tiles_mask_list)"
   ]
  },
  {
   "cell_type": "code",
   "execution_count": 21,
   "id": "f28c27a6-b3e8-4f7f-adff-e7e0eb0a3fd5",
   "metadata": {},
   "outputs": [
    {
     "name": "stdout",
     "output_type": "stream",
     "text": [
      "S2A_MSIL2A_20170613T101031_N9999_R022_T33UUP_26_57_reference_map.tif\n",
      "\n",
      "\n",
      "S2A_MSIL2A_20170613T101031_N9999_R022_T33UUP_27_55_reference_map.tif\n",
      "\n",
      "\n",
      "\n",
      "\n",
      "S2A_MSIL2A_20170613T101031_N9999_R022_T34VER_00_45_reference_map.tif\n",
      "\n",
      "\n",
      "S2A_MSIL2A_20170613T101031_N9999_R022_T34VER_00_46_reference_map.tif\n",
      "\n",
      "\n",
      "\n",
      "\n",
      "Number of masks: 4\n"
     ]
    }
   ],
   "source": [
    "num_masks = print_images_list(tiles_mask_list)\n",
    "print('Number of masks: {:d}'.format(num_masks))"
   ]
  },
  {
   "cell_type": "markdown",
   "id": "90c6d454-5f14-4e9a-a1f4-057c725fdfc8",
   "metadata": {},
   "source": [
    "We open one of the masks to find out the classes that have been used to label the pixels in the corresponding image"
   ]
  },
  {
   "cell_type": "code",
   "execution_count": 22,
   "id": "6be2135b-17ac-4070-a024-f7824c073529",
   "metadata": {},
   "outputs": [
    {
     "data": {
      "text/plain": [
       "'data\\\\Reference_Maps\\\\S2A_MSIL2A_20170613T101031_N9999_R022_T33UUP\\\\S2A_MSIL2A_20170613T101031_N9999_R022_T33UUP_26_57\\\\S2A_MSIL2A_20170613T101031_N9999_R022_T33UUP_26_57_reference_map.tif'"
      ]
     },
     "execution_count": 22,
     "metadata": {},
     "output_type": "execute_result"
    }
   ],
   "source": [
    "mask_path = str(tiles_mask_list[0][0][0])\n",
    "mask_path"
   ]
  },
  {
   "cell_type": "code",
   "execution_count": 23,
   "id": "bc766fe8-5a9e-4703-ad8e-633fc07e94dc",
   "metadata": {},
   "outputs": [
    {
     "name": "stdout",
     "output_type": "stream",
     "text": [
      "Level 3 CLC classes:  [211 231 311 313]\n"
     ]
    }
   ],
   "source": [
    "mask_ds = in_ds = gdal.Open(mask_path)\n",
    "mask_data = mask_ds.GetRasterBand(1)\n",
    "mask_array = mask_data.ReadAsArray()\n",
    "unique_values = np.unique(mask_array)\n",
    "print('Level 3 CLC classes: ', unique_values)"
   ]
  },
  {
   "cell_type": "markdown",
   "id": "0715389a-a061-4469-9aac-80a61472bf55",
   "metadata": {},
   "source": [
    "The data type for the mask pixel is also uint16"
   ]
  },
  {
   "cell_type": "code",
   "execution_count": 24,
   "id": "2af9effe-a771-498f-b5e2-3c7a4396e2de",
   "metadata": {},
   "outputs": [
    {
     "data": {
      "text/plain": [
       "dtype('uint16')"
      ]
     },
     "execution_count": 24,
     "metadata": {},
     "output_type": "execute_result"
    }
   ],
   "source": [
    "mask_array.dtype"
   ]
  },
  {
   "cell_type": "markdown",
   "id": "20d303ba-6107-4482-975a-8ef5a0001c98",
   "metadata": {},
   "source": [
    "### Mask visualization\n",
    "The values in a mask refer to the Corine 2018 classification. They can range from 1 to 522. The values in the 3 level may differ by only 1 or 2, e.g. 211, 212, 213, and the color in the plot might not be distinguished. We can improve the visualization by using the Corine2018 RGB color codes."
   ]
  },
  {
   "cell_type": "code",
   "execution_count": 25,
   "id": "13cd29c8-44e0-477c-8580-899fa557acf7",
   "metadata": {},
   "outputs": [],
   "source": [
    "color_map_list = corine_color_map()\n",
    "under = color_map_list[0]\n",
    "over = color_map_list[44]"
   ]
  },
  {
   "cell_type": "code",
   "execution_count": 26,
   "id": "3fe866e3-9e32-4841-b524-31ca6f89b7e9",
   "metadata": {},
   "outputs": [
    {
     "data": {
      "image/png": "[encoded data removed]",
      "text/html": [
       "<div style=\"vertical-align: middle;\"><strong>Corine2018 Color Codes</strong> </div><div class=\"cmap\"><img alt=\"Corine2018 Color Codes colormap\" title=\"Corine2018 Color Codes\" style=\"border: 1px solid #555;\" src=\"data:image/png;base64,iVBORw0KGgoAAAANSUhEUgAAAgAAAABACAYAAABsv8+/AAAAJXRFWHRUaXRsZQBDb3JpbmUyMDE4IENvbG9yIENvZGVzIGNvbG9ybWFw5P1KXAAAACt0RVh0RGVzY3JpcHRpb24AQ29yaW5lMjAxOCBDb2xvciBDb2RlcyBjb2xvcm1hcGSP120AAAAwdEVYdEF1dGhvcgBNYXRwbG90bGliIHYzLjguNCwgaHR0cHM6Ly9tYXRwbG90bGliLm9yZ2TOsrQAAAAydEVYdFNvZnR3YXJlAE1hdHBsb3RsaWIgdjMuOC40LCBodHRwczovL21hdHBsb3RsaWIub3JnSmgtkwAAAgNJREFUeJzt1j1RA1EUhuEDdUK/ERADREAMbA+YCQoQgAAYagysADCAgE0P6cHCPS3f89Rn7pz9mTvv1VrzbzVM9T48+zl/d46uer8ZHt19fDQO3rXWWA7r+PB8GB69r9arrrpvzB4bs9Nbb4+6G548nxvHPve22Ozn4dlL4z+tqqrj+NlT68O8ttY4N369TWOPp9uH1h6PjbXnxus4/Yy/56qqr+3t+PD5c3x20/s/jpfxD7OujY9YVdV4xMPV+H3zsnbuyKpaxhd5bfwfp1NvjV3jul6W8QvnYb9p7fG4v4zPbpfh2ZfWZV11/JmGZ6dt6+i67o0DAP+BAACAQAIAAAIJAAAIJAAAIJAAAIBAAgAAAgkAAAgkAAAgkAAAgEACAAACCQAACCQAACCQAACAQAIAAAIJAAAIJAAAIJAAAIBAAgAAAgkAAAgkAAAgkAAAgEACAAACCQAACCQAACCQAACAQAIAAAIJAAAIJAAAIJAAAIBAAgAAAgkAAAgkAAAgkAAAgEACAAACCQAACCQAACCQAACAQAIAAAIJAAAIJAAAIJAAAIBAAgAAAgkAAAgkAAAgkAAAgEACAAACCQAACCQAACCQAACAQAIAAAIJAAAIJAAAIJAAAIBAAgAAAgkAAAgkAAAgkAAAgEACAAACCQAACCQAACCQAACAQAIAAAL9AVypMXzjrxm+AAAAAElFTkSuQmCC\"></div><div style=\"vertical-align: middle; max-width: 514px; display: flex; justify-content: space-between;\"><div style=\"float: left;\"><div title=\"#e6004dff\" style=\"display: inline-block; width: 1em; height: 1em; margin: 0; vertical-align: middle; border: 1px solid #555; background-color: #e6004dff;\"></div> under</div><div style=\"margin: 0 auto; display: inline-block;\">bad <div title=\"#00000000\" style=\"display: inline-block; width: 1em; height: 1em; margin: 0; vertical-align: middle; border: 1px solid #555; background-color: #00000000;\"></div></div><div style=\"float: right;\">over <div title=\"#ffffffff\" style=\"display: inline-block; width: 1em; height: 1em; margin: 0; vertical-align: middle; border: 1px solid #555; background-color: #ffffffff;\"></div></div>"
      ],
      "text/plain": [
       "<matplotlib.colors.ListedColormap at 0x22e5513a960>"
      ]
     },
     "execution_count": 26,
     "metadata": {},
     "output_type": "execute_result"
    }
   ],
   "source": [
    "corine2018_color_map = ListedColormap(corine_color_map(), name='Corine2018 Color Codes')\n",
    "corine2018_color_map.with_extremes(under=under, over=over)"
   ]
  },
  {
   "cell_type": "code",
   "execution_count": 27,
   "id": "ad951353-7ee8-4df9-9009-221e16732005",
   "metadata": {},
   "outputs": [
    {
     "data": {
      "image/png": "[encoded data removed]",
      "text/plain": [
       "<Figure size 600x100 with 1 Axes>"
      ]
     },
     "metadata": {},
     "output_type": "display_data"
    }
   ],
   "source": [
    "fig, ax = plt.subplots(figsize=(6, 1), layout='constrained')\n",
    "bounds =  np.arange(1,46)\n",
    "norm = matplotlib.colors.BoundaryNorm(bounds, corine2018_color_map.N)\n",
    "\n",
    "cbar = fig.colorbar(\n",
    "    matplotlib.cm.ScalarMappable(cmap=corine2018_color_map, norm=norm),\n",
    "    cax=ax, orientation='horizontal',\n",
    "    spacing='proportional',\n",
    "    label='Corine2018 RGB Colors',\n",
    ")"
   ]
  },
  {
   "cell_type": "code",
   "execution_count": 28,
   "id": "1a8933ca-bd64-4d44-a4ff-4705982f5a1a",
   "metadata": {},
   "outputs": [
    {
     "data": {
      "text/plain": [
       "1"
      ]
     },
     "execution_count": 28,
     "metadata": {},
     "output_type": "execute_result"
    }
   ],
   "source": [
    "corine2018_class_bucket(111)"
   ]
  },
  {
   "cell_type": "code",
   "execution_count": 29,
   "id": "1513f84d-cd05-43c6-9ab9-51cb5dc61c77",
   "metadata": {},
   "outputs": [
    {
     "data": {
      "text/plain": [
       "2"
      ]
     },
     "execution_count": 29,
     "metadata": {},
     "output_type": "execute_result"
    }
   ],
   "source": [
    "corine2018_class_bucket(112)"
   ]
  },
  {
   "cell_type": "code",
   "execution_count": 30,
   "id": "b17d0f74-d782-43d3-b029-8d300d3e2062",
   "metadata": {},
   "outputs": [
    {
     "data": {
      "text/plain": [
       "dtype('uint16')"
      ]
     },
     "execution_count": 30,
     "metadata": {},
     "output_type": "execute_result"
    }
   ],
   "source": [
    "mask_array.dtype"
   ]
  },
  {
   "cell_type": "markdown",
   "id": "3a6af08e-89d0-4472-aeb8-d24bf810f1fc",
   "metadata": {},
   "source": [
    "## Updating the Corine2018 class values\n",
    "We map the Corine2018 values used in the masks to a set of integers from 1 to 45."
   ]
  },
  {
   "cell_type": "code",
   "execution_count": 31,
   "id": "69e8e3c4-f569-41da-ab58-37e2de9a7f11",
   "metadata": {},
   "outputs": [],
   "source": [
    "u_mask = corine_mask(mask_array)"
   ]
  },
  {
   "cell_type": "code",
   "execution_count": 32,
   "id": "02f53c3e-ed4a-468a-bb8e-2a7f6685a6b0",
   "metadata": {},
   "outputs": [
    {
     "data": {
      "text/plain": [
       "<matplotlib.image.AxesImage at 0x22e551fb620>"
      ]
     },
     "execution_count": 32,
     "metadata": {},
     "output_type": "execute_result"
    },
    {
     "data": {
      "image/png": "[encoded data removed]",
      "text/plain": [
       "<Figure size 500x500 with 2 Axes>"
      ]
     },
     "metadata": {},
     "output_type": "display_data"
    }
   ],
   "source": [
    "fig, ax = plt.subplots(figsize=(5, 5), layout='constrained')\n",
    "corine2018_color_map = ListedColormap(corine_color_map(), name='Corine2018 Color Codes')\n",
    "bounds =  np.arange(1,46)\n",
    "norm = matplotlib.colors.BoundaryNorm(bounds, corine2018_color_map.N)\n",
    "cbar = fig.colorbar(\n",
    "    matplotlib.cm.ScalarMappable(cmap=corine2018_color_map, norm=norm),\n",
    "    ax=ax, orientation='horizontal',\n",
    "    spacing='proportional',\n",
    "    label='Corine2018 RGB Color Codes',\n",
    ")\n",
    "#ticks = np.arange(1,46)\n",
    "#cbar.set_ticks(ticks=ticks, labels=corine2018_labels()) \n",
    "#cbar.ax.tick_params(labelsize=10)\n",
    "ax.imshow(u_mask, cmap=corine2018_color_map)"
   ]
  },
  {
   "cell_type": "markdown",
   "id": "e7b3f5c2-2f21-4b08-8310-22f4377fde69",
   "metadata": {},
   "source": [
    "## Creating a PNG RGB dataset from TIFF images\n",
    "A PNG file doesn't contain metadata so, in order to create a RGB image, we only need to use the bands from three GeoTIFF file. We use the same data type for the PNG files, i.e. uint16, as in the TIFF files, for the images and the masks."
   ]
  },
  {
   "cell_type": "code",
   "execution_count": 24,
   "id": "65c4efcc-4847-43b6-af13-7c9e85b295ce",
   "metadata": {},
   "outputs": [
    {
     "name": "stdout",
     "output_type": "stream",
     "text": [
      "Number of bands used for RGB images: 3\n"
     ]
    }
   ],
   "source": [
    "tile_index = 0\n",
    "patch_index = 0\n",
    "print('Number of bands used for RGB images: {:d}'.format(len(tiles_list[tile_index][patch_index])))"
   ]
  },
  {
   "cell_type": "code",
   "execution_count": 26,
   "id": "cff0d107-fe26-4fae-82e1-3a6bd3202d5c",
   "metadata": {},
   "outputs": [
    {
     "data": {
      "text/plain": [
       "0"
      ]
     },
     "execution_count": 26,
     "metadata": {},
     "output_type": "execute_result"
    }
   ],
   "source": [
    "createPNG(tiles_list[tile_index][patch_index], 'data/rgb.png')"
   ]
  },
  {
   "cell_type": "code",
   "execution_count": 27,
   "id": "e33e72c3-6aad-4a05-9229-732d2b2ed910",
   "metadata": {},
   "outputs": [
    {
     "name": "stdout",
     "output_type": "stream",
     "text": [
      "dtypes: uint8\n",
      "Number of bands: 3\n",
      "Band width: 120, band height: 120\n",
      "Dataset affine transform:\n",
      " | 1.00, 0.00, 0.00|\n",
      "| 0.00, 1.00, 0.00|\n",
      "| 0.00, 0.00, 1.00|\n",
      "EPSG Coordinates Reference System: None\n",
      "Bounding box \n",
      " left: 0.00, \n",
      " bottom: 120.00, \n",
      " right: 120.00, \n",
      " top: 0.00\n"
     ]
    },
    {
     "data": {
      "text/plain": [
       "(120,\n",
       " 120,\n",
       " None,\n",
       " Affine(1.0, 0.0, 0.0,\n",
       "        0.0, 1.0, 0.0))"
      ]
     },
     "execution_count": 27,
     "metadata": {},
     "output_type": "execute_result"
    }
   ],
   "source": [
    "get_raster_attributes('data/rgb.png')"
   ]
  },
  {
   "cell_type": "code",
   "execution_count": 28,
   "id": "e968339e-0153-404d-8673-79e5a107e1e3",
   "metadata": {},
   "outputs": [
    {
     "data": {
      "text/plain": [
       "(dtype('uint8'), (3, 120, 120))"
      ]
     },
     "execution_count": 28,
     "metadata": {},
     "output_type": "execute_result"
    }
   ],
   "source": [
    "png_array = get_image_array('data/rgb.png')\n",
    "png_array.dtype, png_array.shape"
   ]
  },
  {
   "cell_type": "markdown",
   "id": "309bf57d-ca2f-46b9-b640-987ad384b3fa",
   "metadata": {},
   "source": [
    "We change the order of the array's axis from (channel, height, width) to (height, width, channel) so that we can plot the 3D array with Matplotlib"
   ]
  },
  {
   "cell_type": "code",
   "execution_count": 30,
   "id": "ab246b4b-adcc-4b2b-b4ea-d8fafb079d03",
   "metadata": {},
   "outputs": [
    {
     "data": {
      "text/plain": [
       "(120, 120, 3)"
      ]
     },
     "execution_count": 30,
     "metadata": {},
     "output_type": "execute_result"
    }
   ],
   "source": [
    "png_array_perm = np.moveaxis(png_array, 0, 2)\n",
    "png_array_perm.shape"
   ]
  },
  {
   "cell_type": "code",
   "execution_count": 31,
   "id": "f4119310-0f19-41e7-a7aa-d650f9712311",
   "metadata": {},
   "outputs": [
    {
     "data": {
      "text/plain": [
       "<matplotlib.image.AxesImage at 0x213082b89e0>"
      ]
     },
     "execution_count": 31,
     "metadata": {},
     "output_type": "execute_result"
    },
    {
     "data": {
      "image/png": "[encoded data removed]",
      "text/plain": [
       "<Figure size 640x480 with 1 Axes>"
      ]
     },
     "metadata": {},
     "output_type": "display_data"
    }
   ],
   "source": [
    "plt.imshow(png_array_perm)"
   ]
  },
  {
   "cell_type": "code",
   "execution_count": 84,
   "id": "1ae0cee8-f774-437e-abdf-cf06696db2ea",
   "metadata": {},
   "outputs": [
    {
     "name": "stdout",
     "output_type": "stream",
     "text": [
      "The image PNG file already exists.\n",
      "The image PNG file already exists.\n",
      "The image PNG file already exists.\n",
      "The image PNG file already exists.\n"
     ]
    }
   ],
   "source": [
    "pngs_list = createPNGs(tiles_list)"
   ]
  },
  {
   "cell_type": "code",
   "execution_count": 85,
   "id": "5677ceca-16fe-47c6-a482-1915ece32bf9",
   "metadata": {},
   "outputs": [
    {
     "name": "stdout",
     "output_type": "stream",
     "text": [
      "Number of PNG image files:  4\n"
     ]
    }
   ],
   "source": [
    "print('Number of PNG image files: ',len(pngs_list))"
   ]
  },
  {
   "cell_type": "markdown",
   "id": "b7969f5d-42a0-4b66-9a35-7338d5789be0",
   "metadata": {},
   "source": [
    "It might be useful to recursively delete the image and mask png file created with previous version of the function using a simple bash command that looks for all the files whose name starts with 'R' and ends with '.png'\n",
    "\n",
    "````\n",
    "$ find . -type f -name \"R*.png\"\n",
    "````"
   ]
  },
  {
   "cell_type": "markdown",
   "id": "6e2ebfa8-43c5-4bec-b7e1-f801361392a9",
   "metadata": {},
   "source": [
    "## Changing the masks' pixel values\n",
    "We want to use only the Corine level 1 values for the classes. The level 1 pixel values will be moved from 1 to 5 to 0 to 4. The level 2 and 3 values will be changed into their higher level value. "
   ]
  },
  {
   "cell_type": "markdown",
   "id": "21e05297-c523-406e-88b4-b9e536c94baf",
   "metadata": {},
   "source": [
    "## Creating a PNG dataset from TIFF masks\n",
    "The masks are also provided in the TIFF format so we apply the same trasformation. The difference with respect to the RGB images is that there is only one band for each mask patch. We have to use the uint16 data type because uint8 with value from 0 to 255 is not enough to cover the Corine level 3 class codes."
   ]
  },
  {
   "cell_type": "code",
   "execution_count": 45,
   "id": "88d1cad3-7034-4d9c-85b4-4898d159c9e2",
   "metadata": {},
   "outputs": [
    {
     "data": {
      "text/plain": [
       "1"
      ]
     },
     "execution_count": 45,
     "metadata": {},
     "output_type": "execute_result"
    }
   ],
   "source": [
    "mask_png_path = 'data/mask.png'\n",
    "createMaskPNG(mask_path, mask_png_path)"
   ]
  },
  {
   "cell_type": "code",
   "execution_count": 73,
   "id": "2e4158f2-7841-43d6-8811-0507983c3a54",
   "metadata": {},
   "outputs": [
    {
     "data": {
      "image/png": "[encoded data removed]",
      "text/plain": [
       "<Figure size 640x480 with 1 Axes>"
      ]
     },
     "metadata": {},
     "output_type": "display_data"
    }
   ],
   "source": [
    "mask_png = rasterio.open('data/mask.png')\n",
    "u_mask = uniform_mask(mask_png.read(1))\n",
    "show(u_mask, cmap=corine2018_color_map)\n",
    "mask_png.close()"
   ]
  },
  {
   "cell_type": "markdown",
   "id": "8fd957aa-8aa8-4688-8b83-4095dead0af5",
   "metadata": {},
   "source": [
    "We make sure that the class values used in the mask PNG file are the same as in the original TIFF file "
   ]
  },
  {
   "cell_type": "code",
   "execution_count": 74,
   "id": "57b035aa-9b73-4f56-945f-88d5c7d02598",
   "metadata": {},
   "outputs": [
    {
     "name": "stdout",
     "output_type": "stream",
     "text": [
      "Level 3 CLC classes:  [211 231 311 313]\n"
     ]
    }
   ],
   "source": [
    "mask_ds = in_ds = gdal.Open(mask_png_path)\n",
    "mask_data = mask_ds.GetRasterBand(1)\n",
    "mask_array = mask_data.ReadAsArray()\n",
    "print('Level 3 CLC classes: ', np.unique(mask_array))"
   ]
  },
  {
   "cell_type": "code",
   "execution_count": 75,
   "id": "4f023ede-7c0c-4871-8786-6f5c13b53b44",
   "metadata": {},
   "outputs": [
    {
     "name": "stdout",
     "output_type": "stream",
     "text": [
      "Number of bands in the file:  1\n"
     ]
    }
   ],
   "source": [
    "print('Number of bands in the file: ', mask_ds.RasterCount)"
   ]
  },
  {
   "cell_type": "code",
   "execution_count": 76,
   "id": "a907f75e-5670-4b3d-ae22-0257e550deb6",
   "metadata": {},
   "outputs": [
    {
     "name": "stdout",
     "output_type": "stream",
     "text": [
      "Tile: R022_T33UUP, Patch: 26_57, Date: 20170613\n"
     ]
    }
   ],
   "source": [
    "mask_file_name = 'S2A_MSIL2A_20170613T101031_N9999_R022_T33UUP_26_57_reference_map.tif'\n",
    "tile, patch, date = read_mask_name(mask_file_name)\n",
    "print('Tile: {}, Patch: {}, Date: {}'.format(tile, patch, date))"
   ]
  },
  {
   "cell_type": "code",
   "execution_count": 79,
   "id": "ee57510a-d83c-4b16-a68f-cd9215026f49",
   "metadata": {},
   "outputs": [],
   "source": [
    "masks_png_list = createMaskPNGs(tiles_mask_list)"
   ]
  },
  {
   "cell_type": "markdown",
   "id": "46413afa-e1bc-4648-9f86-bb71fa87fe20",
   "metadata": {},
   "source": [
    "## Zip and unzip PNG files\n",
    "We may want to compress all the PNG images into one zip file"
   ]
  },
  {
   "cell_type": "code",
   "execution_count": 87,
   "id": "ffaafbed-baec-4542-9cd8-a8894c225ef6",
   "metadata": {},
   "outputs": [],
   "source": [
    "rgb_zip_file = 'data/bigearthnet_pngs.zip'"
   ]
  },
  {
   "cell_type": "code",
   "execution_count": 88,
   "id": "833afdab-e49f-4d6a-9593-764d4bd866c9",
   "metadata": {},
   "outputs": [],
   "source": [
    "zip_pngs(pngs_list, rgb_zip_file)"
   ]
  },
  {
   "cell_type": "markdown",
   "id": "b4b25a0d-8684-450e-b08f-d2e546a96347",
   "metadata": {},
   "source": [
    "we do the same for the mask PNG files"
   ]
  },
  {
   "cell_type": "code",
   "execution_count": 89,
   "id": "be8a8c33-3437-47e1-ba6c-097924106d3b",
   "metadata": {},
   "outputs": [],
   "source": [
    "masks_zip_file = 'data/bigearthnet_mask_pngs.zip'"
   ]
  },
  {
   "cell_type": "code",
   "execution_count": 90,
   "id": "317d6522-1a51-4681-bdd9-c8debc15e2c2",
   "metadata": {},
   "outputs": [],
   "source": [
    "zip_pngs(masks_png_list, masks_zip_file)"
   ]
  },
  {
   "cell_type": "markdown",
   "id": "3002e69d-0297-454f-8067-bd0495b2e321",
   "metadata": {},
   "source": [
    "We may also want to decompress the zip files into another folder "
   ]
  },
  {
   "cell_type": "code",
   "execution_count": 91,
   "id": "f2f691e4-4012-4294-82ab-56f77097c2b2",
   "metadata": {},
   "outputs": [],
   "source": [
    "unzip_folder = 'zip/'"
   ]
  },
  {
   "cell_type": "code",
   "execution_count": 92,
   "id": "37de3f46-e7e1-44e7-8e1f-4a9ac13aa157",
   "metadata": {},
   "outputs": [],
   "source": [
    "unzip_pngs(rgb_zip_file, unzip_folder)"
   ]
  },
  {
   "cell_type": "code",
   "execution_count": 93,
   "id": "4f66d51c-841a-4bca-8c9b-658a0786e390",
   "metadata": {},
   "outputs": [],
   "source": [
    "unzip_pngs(masks_zip_file, unzip_folder)"
   ]
  },
  {
   "cell_type": "markdown",
   "id": "6686770f-7059-478e-bed3-4c4bb0aee276",
   "metadata": {},
   "source": [
    "## Visualization"
   ]
  },
  {
   "cell_type": "code",
   "execution_count": 96,
   "id": "7963636b-328e-4f1e-a671-9d5736f60464",
   "metadata": {},
   "outputs": [
    {
     "data": {
      "image/png": "[encoded data removed]",
      "text/plain": [
       "<Figure size 500x300 with 8 Axes>"
      ]
     },
     "metadata": {},
     "output_type": "display_data"
    }
   ],
   "source": [
    "plot_examples(pngs_list, masks_png_list)"
   ]
  },
  {
   "cell_type": "markdown",
   "id": "9e9da28c-3a5b-47ab-bd70-b3b9229d3f3f",
   "metadata": {},
   "source": [
    "## Processing and storage of the BigEarthNetv2 on Amazon Web Services \n",
    "We need to create RGB files in the PNG format using the BigEarthNetv2 patches and mask to train a deep learning model for semantic segmentation tasks. The size of the dataset available for download in a comressed form, tar + zst, is 59 GB for the images and 270 MB for the masks. We use an EC2 instance from AWS () with the following characteristics:\n",
    "\n",
    "* Type of virtual server: t2.micro, 1 CPU, 1 GB RAM\n",
    "* Operating system: Ubuntu Server 24.04 LTS\n",
    "* Volumes (SSD): root 8 GB + 1 vol. 250 GB (tot. 258 GB)\n",
    "\n",
    "The first volume that comes with the EC2 instance is used for processing the data and can be deleted with the instance. The second volume is used to store the data and can be attached to any (single) instance. Once the EC2 instance is started we can connect to it from a terminal using the ssh protocol and a key pair. We chose to add a volume with 250 GB of space. The added volume /dev/nvme1n1 must be formatted (ext4 file system) and a mount point (a directory, e.g. /data) must be created following the [instructions](https://docs.aws.amazon.com/ebs/latest/userguide/ebs-using-volumes.html) on the AWS website. \n",
    "\n",
    "````\n",
    "$ sudo mount /dev/nvme1n1 /data\n",
    "````\n",
    "We can check that the volume is formatted (ext4) and that the mount point is connected with the volume using the command\n",
    "````\n",
    "$ sudo lsblk -f\n",
    "````\n",
    "\n",
    "Once the volume is available, formatted, and mounted we can download the BigEarthNetv2 dataset (59 GB) in the /data folder\n",
    "````\n",
    "$ sudo wget https://zenodo.org/records/10891137/files/BigEarthNet-S2.tar.zst?download=1 -O BigEarthNet-S2.tar.zst\n",
    "````\n",
    "and the masks (270 MB)\n",
    "\n",
    "````\n",
    "$ sudo wget https://zenodo.org/records/10891137/files/Reference_Maps.tar.zst?download=1 -O Reference_Maps.tar.zst\n",
    "````\n",
    "and then extract the image files\n",
    "\n",
    "````\n",
    "$ sudo tar xvf BigEarthNet-S2.tar.zst\n",
    "````\n",
    "\n",
    "and the masks\n",
    "\n",
    "````\n",
    "$ sudo tar xvf Reference_Maps.tar.zst\n",
    "````\n"
   ]
  },
  {
   "cell_type": "markdown",
   "id": "b0b5dbc3-61e2-4195-826c-7cf0e1752a1b",
   "metadata": {},
   "source": [
    "### Installing the required Python packages with Conda\n",
    "The [Python script](lib/bigearthnetv2_lib.py) for the data preparation steps uses a list of packages that must be installed before using the script. The first step is to install [conda](https://www.anaconda.com/docs/getting-started/anaconda/install#linux-installer). Then we create a new conda environment named _bigearthnet_ with a python interpreter version 3.12.5. We accept the default folder location.  \n",
    "````\n",
    "$ (base)conda create -n bigearthnet python=3.12.5\n",
    "````\n",
    "Once the new conda environment is created we activate is\n",
    "````\n",
    "$ (base)conda activate bigearthnet\n",
    "````\n",
    "and we proceed with the installation of the required packages\n",
    "````\n",
    "$ (bigearthnet)conda install numpy gdal rasterio tiffile matplotlib scikit-image\n",
    "````\n"
   ]
  },
  {
   "cell_type": "markdown",
   "id": "4965ad4f-887d-410e-8806-93e75b13a7af",
   "metadata": {},
   "source": [
    "### Storage of the PNG files in S3\n",
    "Once the PNG RGB and mask datasets are created they can be stored in the cloud, e.g. in a S3 bucket. A dataset can be uploaded and downloaded from the bucket using the scp protocol or the aws-cli command line APIs\n",
    "\n",
    "#### AWS-CLI \n",
    "send two files to a bucket. From a folder that contains a subdir with the credentials (e.g. .ssh/my_key_pair.pem)\n",
    "\n",
    "```\n",
    "$ aws s3 cp bigearthnet_pngs.zip s3://selmilab-bucket\n",
    "$ aws s3 cp bigearthnet_mask_pngs.zip s3://selmilab-bucket\n",
    "```\n",
    "\n",
    "download the files from the same bucket, just reverse the paths\n",
    "\n",
    "```\n",
    "$ aws s3 cp s3://selmilab-bucket/bigearthnet_pngs.zip bigearthnet_pngs.zip\n",
    "$ aws s3 cp s3://selmilab-bucket/bigearthnet_mask_pngs.zip bigearthnet_mask_pngs.zip\n",
    "```\n",
    "#### SCP \n",
    "download from remote in the current local directory\n",
    "\n",
    "```\n",
    "$ scp -i \"my_aws_keypair.pem\" ubuntu@ec2-15-160-237-53.eu-south-1.compute.amazonaws.com:/home/ubuntu/data/bigearthnet_mask_pngs.zip .  \n",
    "```"
   ]
  },
  {
   "cell_type": "markdown",
   "id": "df40acde-aae5-4596-91c9-60d43ebcd28a",
   "metadata": {},
   "source": [
    "### Sharing an object in a S3 bucket\n",
    "Objets such as images or zip files by default can only be accessible by the owner using the key pair. An easier way to access an objetc from S3 is by using a presigned url that can last from 1 to 720 minutes or from 1 to 12 hours."
   ]
  },
  {
   "cell_type": "markdown",
   "id": "5be63d2f-696a-475a-9078-8988dd6c776e",
   "metadata": {},
   "source": [
    "## References\n",
    "* [Sumbul et al. - BigEarthNet: A Large-Scale Benchmark Archive For Remote Sensing Image Understanding](https://arxiv.org/abs/1902.06148)\n",
    "* [Clasen et al. - reBEN: Refined BigEarthNet Dataset for Remote Sensing Image Analysis](https://arxiv.org/abs/2407.03653)\n",
    "* [Ulmas et al. - Segmentation of Satellite Imagery using U-Net Models for Land Cover Classification](https://arxiv.org/abs/2003.02899)\n",
    "* [Walsh et al. - Using machine learning to produce a very high resolution land-cover map for Ireland](https://asr.copernicus.org/articles/18/65/2021/)\n",
    "* [Corine2018 RGB Color Codes](https://www.eea.europa.eu/data-and-maps/data/corine-land-cover-2/corine-land-cover-classes-and/clc_legend.csv)"
   ]
  },
  {
   "cell_type": "code",
   "execution_count": null,
   "id": "460d1540-c6cd-4442-bc85-bd883835c1f2",
   "metadata": {},
   "outputs": [],
   "source": []
  }
 ],
 "metadata": {
  "kernelspec": {
   "display_name": "Python 3 (ipykernel)",
   "language": "python",
   "name": "python3"
  },
  "language_info": {
   "codemirror_mode": {
    "name": "ipython",
    "version": 3
   },
   "file_extension": ".py",
   "mimetype": "text/x-python",
   "name": "python",
   "nbconvert_exporter": "python",
   "pygments_lexer": "ipython3",
   "version": "3.12.5"
  }
 },
 "nbformat": 4,
 "nbformat_minor": 5
}
